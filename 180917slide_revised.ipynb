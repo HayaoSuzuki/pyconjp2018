{
 "cells": [
  {
   "cell_type": "code",
   "execution_count": 1,
   "metadata": {},
   "outputs": [],
   "source": [
    "%matplotlib inline\n",
    "\n",
    "from IPython.display import Image, display_png\n",
    "from sympy import init_printing\n",
    "\n",
    "\n",
    "init_printing()"
   ]
  },
  {
   "cell_type": "markdown",
   "metadata": {},
   "source": [
    "# Symbolic Mathematics using SymPy\n",
    "\n",
    "## Hayao Suzuki\n",
    "\n",
    "- PyCon JP 2018 at Ota City Industrial Plaza\n",
    "- September 17, 2018"
   ]
  },
  {
   "cell_type": "markdown",
   "metadata": {},
   "source": [
    "# We will talk about\n",
    "\n",
    "- Why SymPy?\n",
    "- How to use SymPy\n",
    "- Mathematics (Undergraduate Level)\n",
    "\n",
    "# We will NOT talk about\n",
    "\n",
    "- SymPy Internal (implementions, etc...)\n",
    "- Algorithms of calculation\n",
    "- Mathematics (High School Level)"
   ]
  },
  {
   "cell_type": "markdown",
   "metadata": {},
   "source": [
    "# Are You Ready?\n",
    "\n",
    "$$e^{x} = \\sum^{\\infty}_{k=0}\\frac{x^{k}}{k!}$$\n",
    "\n",
    "$$ \\int^{\\infty}_{-\\infty} \\frac{x}{\\sqrt{2\\pi \\sigma^{2}}} \\exp \\left (-\\frac{(x-\\mu)^{2}}{2\\sigma^{2}} \\right )dx = \\mu$$"
   ]
  },
  {
   "cell_type": "markdown",
   "metadata": {},
   "source": [
    "# About Me\n",
    "\n",
    "- Name: Hayao Suzuki（鈴木　駿） ([@CardinalXaro](https://twitter.com/CardinalXaro))\n",
    "- Blog: https://xaro.hatenablog.jp/\n",
    "- Major: Mathematics (Combinatorics, Number Theory)\n",
    "- Degree: 修士（工学）、電気通信大学\n",
    "- Work: Python Programmer at [iRidge, Inc.](https://iridge.jp/)\n",
    "\n",
    "# Reviewed Books (Excerpted)\n",
    "\n",
    "- Effective Python (O’Reilly Japan)\n",
    "- アルゴリズム クイックリファレンス 第 2 版 (O’Reilly Japan)\n",
    "- すらすらわかる Python （翔泳社）\n",
    "- Head First Python 第 2 版 (O’Reilly Japan)\n",
    "- Python データサイエンスハンドブック (O’Reilly Japan)\n",
    "- Python によるデータ分析入門 第 2 版 (O’Reilly Japan)"
   ]
  },
  {
   "cell_type": "markdown",
   "metadata": {},
   "source": [
    "# Introduction"
   ]
  },
  {
   "cell_type": "markdown",
   "metadata": {},
   "source": [
    "# What’s SymPy?\n",
    "\n",
    "- A Python library for symbolic mathematics\n",
    "- Open source software(BSD license), SymPy is free both as in speech and as in beer.\n",
    "- Written in pure Python\n",
    "- Dependency on mpmath library only\n",
    "\n",
    "\n",
    "## What’s mpmath?\n",
    "\n",
    "- Real and complex floating point arithmetic with arbitrary precision"
   ]
  },
  {
   "cell_type": "markdown",
   "metadata": {},
   "source": [
    "# Symbolic vs Numeric\n",
    "\n",
    "## Solve this equation:\n",
    "\n",
    "$$x^2 -8 = 0$$\n",
    "\n",
    "### Symbolic\n",
    "\n",
    "$$x = \\pm 2\\sqrt{2}$$\n",
    "\n",
    "### Numeric\n",
    "\n",
    "$$x = \\pm 2.82842712474619$$"
   ]
  },
  {
   "cell_type": "markdown",
   "metadata": {},
   "source": [
    "# Example: Geometric Series\n",
    "\n",
    "$$ \\sum^{\\infty}_{k=1}\\frac{1}{4^{k}} $$"
   ]
  },
  {
   "cell_type": "code",
   "execution_count": 2,
   "metadata": {},
   "outputs": [
    {
     "data": {
      "image/png": "[encoded data removed]",
      "text/latex": [
       "$$0.3333333333333333$$"
      ],
      "text/plain": [
       "0.3333333333333333"
      ]
     },
     "execution_count": 2,
     "metadata": {},
     "output_type": "execute_result"
    }
   ],
   "source": [
    "sum(1 / 4**k for k in range(1, 100))"
   ]
  },
  {
   "cell_type": "code",
   "execution_count": 3,
   "metadata": {},
   "outputs": [
    {
     "data": {
      "image/png": "[encoded data removed]",
      "text/latex": [
       "$$\\frac{1}{3}$$"
      ],
      "text/plain": [
       "1/3"
      ]
     },
     "execution_count": 3,
     "metadata": {},
     "output_type": "execute_result"
    }
   ],
   "source": [
    "from sympy import Symbol, oo, summation\n",
    "\n",
    "k = Symbol('k', integer=True)\n",
    "summation(1 / (4**k), (k, 1, oo))"
   ]
  },
  {
   "cell_type": "markdown",
   "metadata": {},
   "source": [
    "# Open Source vs Proprietary\n",
    "\n",
    "## Open Source Software\n",
    "- Maxima (Lisp)\n",
    "- SymPy\n",
    "- SageMath (Including SymPy, Python 2 only)\n",
    "\n",
    "## Proprietary Software\n",
    "- Mathematica\n",
    "- Maple\n",
    "- Magma\n",
    "\n",
    "\n",
    "## My History\n",
    "\n",
    "I used Mathematica when I was undergraduate, but I lost my student license when I became a graduate student."
   ]
  },
  {
   "cell_type": "markdown",
   "metadata": {},
   "source": [
    "# How to Install and Use SymPy\n",
    "\n",
    "## How to Install Sympy\n",
    "\n",
    "- `$ pip install sympy` (from PyPI)\n",
    "- `$ conda update sympy` (from Anaconda)\n",
    "- See http://docs.sympy.org/latest/install.html for more detail\n",
    "\n",
    "\n",
    "## How to Use Sympy \n",
    "\n",
    "- `import sympy`\n",
    "- `$ isympy`\n",
    "- Jupyter Notebook (I recommend)\n",
    "\n",
    "\n",
    "## I don’t want to install SymPy, but want to use it...\n",
    "\n",
    "- OK, let’s go to http://live.sympy.org/"
   ]
  },
  {
   "cell_type": "markdown",
   "metadata": {},
   "source": [
    "# Symbols\n",
    "\n",
    "$$\\sum^{\\infty}_{k=0}\\frac{x^{k}}{k!}$$"
   ]
  },
  {
   "cell_type": "code",
   "execution_count": 4,
   "metadata": {},
   "outputs": [
    {
     "data": {
      "image/png": "[encoded data removed]",
      "text/latex": [
       "$$e^{x}$$"
      ],
      "text/plain": [
       " x\n",
       "ℯ "
      ]
     },
     "execution_count": 4,
     "metadata": {},
     "output_type": "execute_result"
    }
   ],
   "source": [
    "from sympy import Symbol, factorial, oo, summation\n",
    "\n",
    "x = Symbol(\"x\")\n",
    "k = Symbol(\"k\", integer=True)\n",
    "\n",
    "summation(x**k / factorial(k), (k, 0, oo))"
   ]
  },
  {
   "cell_type": "markdown",
   "metadata": {},
   "source": [
    "# Mean of Normal Distribution\n",
    "\n",
    "$$ \\int^{\\infty}_{-\\infty} \\frac{x}{\\sqrt{2\\pi \\sigma^{2}}} \\exp \\left (-\\frac{(x-\\mu)^{2}}{2\\sigma^{2}} \\right )dx = \\mu$$"
   ]
  },
  {
   "cell_type": "code",
   "execution_count": 5,
   "metadata": {},
   "outputs": [
    {
     "data": {
      "image/png": "[encoded data removed]",
      "text/latex": [
       "$$\\int_{-\\infty}^{\\infty} \\frac{\\sqrt{2} x e^{- \\frac{\\left(- \\mu + x\\right)^{2}}{2 \\sigma^{2}}}}{2 \\sqrt{\\pi} \\sqrt{\\sigma^{2}}}\\, dx$$"
      ],
      "text/plain": [
       "∞                      \n",
       "⌠                      \n",
       "⎮                 2    \n",
       "⎮        -(-μ + x)     \n",
       "⎮        ───────────   \n",
       "⎮               2      \n",
       "⎮            2⋅σ       \n",
       "⎮  √2⋅x⋅ℯ              \n",
       "⎮  ───────────────── dx\n",
       "⎮             ____     \n",
       "⎮            ╱  2      \n",
       "⎮     2⋅√π⋅╲╱  σ       \n",
       "⌡                      \n",
       "-∞                     "
      ]
     },
     "execution_count": 5,
     "metadata": {},
     "output_type": "execute_result"
    }
   ],
   "source": [
    "from sympy import Integral, Symbol, exp, oo, pi, sqrt\n",
    "\n",
    "x = Symbol(\"x\")\n",
    "mu = Symbol(\"mu\")\n",
    "sigma = Symbol(\"sigma\")\n",
    "f = (x / sqrt(2 * pi * sigma**2)) *  exp(-((x - mu)**2) / (2 * sigma**2))\n",
    "expr = Integral(f, (x, -oo, oo))\n",
    "expr"
   ]
  },
  {
   "cell_type": "code",
   "execution_count": 6,
   "metadata": {},
   "outputs": [
    {
     "data": {
      "image/png": "[encoded data removed]",
      "text/latex": [
       "$$\\begin{cases} - \\frac{\\mu \\left(- 2 \\sqrt{\\pi} \\left(- \\operatorname{erfc}{\\left (\\frac{\\sqrt{2} \\mu}{2 \\sigma} \\right )} + 2\\right) - \\frac{2 \\sqrt{2} \\sigma e^{- \\frac{\\mu^{2}}{2 \\sigma^{2}}}}{\\mu}\\right)}{4 \\sqrt{\\pi}} - \\frac{\\mu \\left(- 2 \\sqrt{\\pi} \\operatorname{erfc}{\\left (\\frac{\\sqrt{2} \\mu}{2 \\sigma} \\right )} + \\frac{2 \\sqrt{2} \\sigma e^{- \\frac{\\mu^{2}}{2 \\sigma^{2}}}}{\\mu}\\right)}{4 \\sqrt{\\pi}} & \\text{for}\\: \\left(\\left(\\frac{\\pi}{2} \\geq 2 \\left|{\\arg{\\left (\\sigma \\right )}}\\right| \\wedge \\pi > \\left|{2 \\arg{\\left (\\mu \\right )} - 4 \\arg{\\left (\\sigma \\right )}}\\right|\\right) \\vee \\left(\\pi \\geq \\left|{2 \\arg{\\left (\\mu \\right )} - 4 \\arg{\\left (\\sigma \\right )}}\\right| \\wedge \\frac{\\pi}{2} > 2 \\left|{\\arg{\\left (\\sigma \\right )}}\\right|\\right) \\vee \\left(\\frac{\\pi}{2} > 2 \\left|{\\arg{\\left (\\sigma \\right )}}\\right| \\wedge \\pi > \\left|{2 \\arg{\\left (\\mu \\right )} - 4 \\arg{\\left (\\sigma \\right )}}\\right|\\right) \\vee \\frac{\\pi}{2} > 2 \\left|{\\arg{\\left (\\sigma \\right )}}\\right|\\right) \\wedge \\left(\\left(\\frac{\\pi}{2} \\geq 2 \\left|{\\arg{\\left (\\sigma \\right )}}\\right| \\wedge \\pi > \\left|{2 \\arg{\\left (\\mu \\right )} - 4 \\arg{\\left (\\sigma \\right )} + 2 \\pi}\\right|\\right) \\vee \\left(\\pi \\geq \\left|{2 \\arg{\\left (\\mu \\right )} - 4 \\arg{\\left (\\sigma \\right )} + 2 \\pi}\\right| \\wedge \\frac{\\pi}{2} > 2 \\left|{\\arg{\\left (\\sigma \\right )}}\\right|\\right) \\vee \\left(\\frac{\\pi}{2} > 2 \\left|{\\arg{\\left (\\sigma \\right )}}\\right| \\wedge \\pi > \\left|{2 \\arg{\\left (\\mu \\right )} - 4 \\arg{\\left (\\sigma \\right )} + 2 \\pi}\\right|\\right) \\vee \\frac{\\pi}{2} > 2 \\left|{\\arg{\\left (\\sigma \\right )}}\\right|\\right) \\\\\\int_{-\\infty}^{\\infty} \\frac{\\sqrt{2} x e^{- \\frac{\\left(- \\mu + x\\right)^{2}}{2 \\sigma^{2}}}}{2 \\sqrt{\\pi} \\sqrt{\\sigma^{2}}}\\, dx & \\text{otherwise} \\end{cases}$$"
      ],
      "text/plain": [
       "⎧    ⎛                                      2 ⎞     ⎛                         \n",
       "⎪    ⎜                                    -μ  ⎟     ⎜                         \n",
       "⎪    ⎜                                    ────⎟     ⎜                         \n",
       "⎪    ⎜                                       2⎟     ⎜                         \n",
       "⎪    ⎜                                    2⋅σ ⎟     ⎜                         \n",
       "⎪    ⎜       ⎛      ⎛√2⋅μ⎞    ⎞   2⋅√2⋅σ⋅ℯ    ⎟     ⎜           ⎛√2⋅μ⎞   2⋅√2⋅\n",
       "⎪  μ⋅⎜- 2⋅√π⋅⎜- erfc⎜────⎟ + 2⎟ - ────────────⎟   μ⋅⎜- 2⋅√π⋅erfc⎜────⎟ + ─────\n",
       "⎪    ⎝       ⎝      ⎝2⋅σ ⎠    ⎠        μ      ⎠     ⎝           ⎝2⋅σ ⎠        \n",
       "⎪- ──────────────────────────────────────────── - ────────────────────────────\n",
       "⎪                      4⋅√π                                       4⋅√π        \n",
       "⎪                                                                             \n",
       "⎪                               ∞                                             \n",
       "⎨                               ⌠                                             \n",
       "⎪                               ⎮                 2                           \n",
       "⎪                               ⎮        -(-μ + x)                            \n",
       "⎪                               ⎮        ───────────                          \n",
       "⎪                               ⎮               2                             \n",
       "⎪                               ⎮            2⋅σ                              \n",
       "⎪                               ⎮  √2⋅x⋅ℯ                                     \n",
       "⎪                               ⎮  ───────────────── dx                       \n",
       "⎪                               ⎮             ____                            \n",
       "⎪                               ⎮            ╱  2                             \n",
       "⎪                               ⎮     2⋅√π⋅╲╱  σ                              \n",
       "⎪                               ⌡                                             \n",
       "⎩                               -∞                                            \n",
       "\n",
       "     2 ⎞                                                                      \n",
       "   -μ  ⎟                                                                      \n",
       "   ────⎟                                                                      \n",
       "      2⎟                                                                      \n",
       "   2⋅σ ⎟                                                                      \n",
       "σ⋅ℯ    ⎟                                                                      \n",
       "───────⎟                                                                      \n",
       "μ      ⎠      ⎛⎛π                                         ⎞   ⎛               \n",
       "────────  for ⎜⎜─ ≥ 2⋅│arg(σ)│ ∧ π > │2⋅arg(μ) - 4⋅arg(σ)│⎟ ∨ ⎜π ≥ │2⋅arg(μ) -\n",
       "              ⎝⎝2                                         ⎠   ⎝               \n",
       "                                                                              \n",
       "                                                                              \n",
       "                                                                              \n",
       "                                                                              \n",
       "                                                                              \n",
       "                                                                              \n",
       "                                                                              \n",
       "                                                                              \n",
       "                                                                              \n",
       "                                                                              \n",
       "                                                                              \n",
       "                                                                              \n",
       "                                                                              \n",
       "                                                                              \n",
       "                                                                              \n",
       "\n",
       "                                                                              \n",
       "                                                                              \n",
       "                                                                              \n",
       "                                                                              \n",
       "                                                                              \n",
       "                                                                              \n",
       "                                                                              \n",
       "             π             ⎞   ⎛π                                         ⎞   \n",
       " 4⋅arg(σ)│ ∧ ─ > 2⋅│arg(σ)│⎟ ∨ ⎜─ > 2⋅│arg(σ)│ ∧ π > │2⋅arg(μ) - 4⋅arg(σ)│⎟ ∨ \n",
       "             2             ⎠   ⎝2                                         ⎠   \n",
       "                                                                              \n",
       "                                                                              \n",
       "                                                                              \n",
       "                                                                              \n",
       "                                                                              \n",
       "                                                                              \n",
       "                                                                              \n",
       "                                                                              \n",
       "                                                                              \n",
       "                                                                              \n",
       "                                                                              \n",
       "                                                                              \n",
       "                                                                              \n",
       "                                                                              \n",
       "                                                                              \n",
       "\n",
       "                                                                              \n",
       "                                                                              \n",
       "                                                                              \n",
       "                                                                              \n",
       "                                                                              \n",
       "                                                                              \n",
       "                                                                              \n",
       "π             ⎞   ⎛⎛π                                               ⎞   ⎛     \n",
       "─ > 2⋅│arg(σ)│⎟ ∧ ⎜⎜─ ≥ 2⋅│arg(σ)│ ∧ π > │2⋅arg(μ) - 4⋅arg(σ) + 2⋅π│⎟ ∨ ⎜π ≥ │\n",
       "2             ⎠   ⎝⎝2                                               ⎠   ⎝     \n",
       "                                                                              \n",
       "                                                                              \n",
       "                                                                              \n",
       "                                                                              \n",
       "                                                                              \n",
       "                                                                              \n",
       "                                                                              \n",
       "                                                                              \n",
       "                                                                              \n",
       "                   otherwise                                                  \n",
       "                                                                              \n",
       "                                                                              \n",
       "                                                                              \n",
       "                                                                              \n",
       "                                                                              \n",
       "\n",
       "                                                                              \n",
       "                                                                              \n",
       "                                                                              \n",
       "                                                                              \n",
       "                                                                              \n",
       "                                                                              \n",
       "                                                                              \n",
       "                             π             ⎞   ⎛π                             \n",
       "2⋅arg(μ) - 4⋅arg(σ) + 2⋅π│ ∧ ─ > 2⋅│arg(σ)│⎟ ∨ ⎜─ > 2⋅│arg(σ)│ ∧ π > │2⋅arg(μ)\n",
       "                             2             ⎠   ⎝2                             \n",
       "                                                                              \n",
       "                                                                              \n",
       "                                                                              \n",
       "                                                                              \n",
       "                                                                              \n",
       "                                                                              \n",
       "                                                                              \n",
       "                                                                              \n",
       "                                                                              \n",
       "                                                                              \n",
       "                                                                              \n",
       "                                                                              \n",
       "                                                                              \n",
       "                                                                              \n",
       "                                                                              \n",
       "\n",
       "                                     \n",
       "                                     \n",
       "                                     \n",
       "                                     \n",
       "                                     \n",
       "                                     \n",
       "                                     \n",
       "                  ⎞   π             ⎞\n",
       " - 4⋅arg(σ) + 2⋅π│⎟ ∨ ─ > 2⋅│arg(σ)│⎟\n",
       "                  ⎠   2             ⎠\n",
       "                                     \n",
       "                                     \n",
       "                                     \n",
       "                                     \n",
       "                                     \n",
       "                                     \n",
       "                                     \n",
       "                                     \n",
       "                                     \n",
       "                                     \n",
       "                                     \n",
       "                                     \n",
       "                                     \n",
       "                                     \n",
       "                                     "
      ]
     },
     "execution_count": 6,
     "metadata": {},
     "output_type": "execute_result"
    }
   ],
   "source": [
    "expr.doit()  # What's happen?"
   ]
  },
  {
   "cell_type": "code",
   "execution_count": 7,
   "metadata": {},
   "outputs": [
    {
     "data": {
      "image/png": "[encoded data removed]",
      "text/latex": [
       "$$\\mu$$"
      ],
      "text/plain": [
       "μ"
      ]
     },
     "execution_count": 7,
     "metadata": {},
     "output_type": "execute_result"
    }
   ],
   "source": [
    "x = Symbol(\"x\")\n",
    "mu = Symbol(\"mu\", real=True)  # mu should be Real \n",
    "sigma = Symbol(\"sigma\", real=True, positive=True) # sigma should be Real and Positive value\n",
    "\n",
    "f = (x / sqrt(2 * pi * sigma**2)) *  exp(-((x - mu)**2) / (2 * sigma**2))\n",
    "expr = Integral(f, (x, -oo, oo))\n",
    "expr.doit()  # OK, I expected."
   ]
  },
  {
   "cell_type": "markdown",
   "metadata": {},
   "source": [
    "# Expand and Factor\n",
    "\n",
    "$$ (a + 2b + 3c)^{3} $$"
   ]
  },
  {
   "cell_type": "code",
   "execution_count": 8,
   "metadata": {},
   "outputs": [
    {
     "data": {
      "image/png": "[encoded data removed]",
      "text/latex": [
       "$$\\left(a + 2 b + 3 c + 4 d\\right)^{4}$$"
      ],
      "text/plain": [
       "                     4\n",
       "(a + 2⋅b + 3⋅c + 4⋅d) "
      ]
     },
     "execution_count": 8,
     "metadata": {},
     "output_type": "execute_result"
    }
   ],
   "source": [
    "from sympy import Symbol, symbols\n",
    "\n",
    "a = Symbol(\"a\")\n",
    "b, c, d = symbols(\"b, c, d\")\n",
    "\n",
    "expr = (a + 2 * b + 3 * c + 4 * d) ** 4\n",
    "expr"
   ]
  },
  {
   "cell_type": "code",
   "execution_count": 9,
   "metadata": {},
   "outputs": [
    {
     "data": {
      "image/png": "[encoded data removed]",
      "text/latex": [
       "$$a^{4} + 8 a^{3} b + 12 a^{3} c + 16 a^{3} d + 24 a^{2} b^{2} + 72 a^{2} b c + 96 a^{2} b d + 54 a^{2} c^{2} + 144 a^{2} c d + 96 a^{2} d^{2} + 32 a b^{3} + 144 a b^{2} c + 192 a b^{2} d + 216 a b c^{2} + 576 a b c d + 384 a b d^{2} + 108 a c^{3} + 432 a c^{2} d + 576 a c d^{2} + 256 a d^{3} + 16 b^{4} + 96 b^{3} c + 128 b^{3} d + 216 b^{2} c^{2} + 576 b^{2} c d + 384 b^{2} d^{2} + 216 b c^{3} + 864 b c^{2} d + 1152 b c d^{2} + 512 b d^{3} + 81 c^{4} + 432 c^{3} d + 864 c^{2} d^{2} + 768 c d^{3} + 256 d^{4}$$"
      ],
      "text/plain": [
       " 4      3         3         3         2  2       2           2           2  2 \n",
       "a  + 8⋅a ⋅b + 12⋅a ⋅c + 16⋅a ⋅d + 24⋅a ⋅b  + 72⋅a ⋅b⋅c + 96⋅a ⋅b⋅d + 54⋅a ⋅c  \n",
       "\n",
       "       2           2  2         3          2            2              2      \n",
       "+ 144⋅a ⋅c⋅d + 96⋅a ⋅d  + 32⋅a⋅b  + 144⋅a⋅b ⋅c + 192⋅a⋅b ⋅d + 216⋅a⋅b⋅c  + 576\n",
       "\n",
       "                    2          3          2              2          3       4 \n",
       "⋅a⋅b⋅c⋅d + 384⋅a⋅b⋅d  + 108⋅a⋅c  + 432⋅a⋅c ⋅d + 576⋅a⋅c⋅d  + 256⋅a⋅d  + 16⋅b  \n",
       "\n",
       "      3          3          2  2        2            2  2          3          \n",
       "+ 96⋅b ⋅c + 128⋅b ⋅d + 216⋅b ⋅c  + 576⋅b ⋅c⋅d + 384⋅b ⋅d  + 216⋅b⋅c  + 864⋅b⋅c\n",
       "\n",
       "2               2          3       4        3          2  2          3        \n",
       " ⋅d + 1152⋅b⋅c⋅d  + 512⋅b⋅d  + 81⋅c  + 432⋅c ⋅d + 864⋅c ⋅d  + 768⋅c⋅d  + 256⋅d\n",
       "\n",
       "4\n",
       " "
      ]
     },
     "execution_count": 9,
     "metadata": {},
     "output_type": "execute_result"
    }
   ],
   "source": [
    "expanded =  expr.expand()\n",
    "expanded"
   ]
  },
  {
   "cell_type": "code",
   "execution_count": 10,
   "metadata": {},
   "outputs": [
    {
     "data": {
      "image/png": "[encoded data removed]",
      "text/latex": [
       "$$\\left(a + 2 b + 3 c + 4 d\\right)^{4}$$"
      ],
      "text/plain": [
       "                     4\n",
       "(a + 2⋅b + 3⋅c + 4⋅d) "
      ]
     },
     "execution_count": 10,
     "metadata": {},
     "output_type": "execute_result"
    }
   ],
   "source": [
    "expanded.factor()"
   ]
  },
  {
   "cell_type": "markdown",
   "metadata": {},
   "source": [
    "# Simplify\n",
    "\n",
    "$$ \\sin^{2}\\theta + \\cos^{2}\\theta = 1$$"
   ]
  },
  {
   "cell_type": "code",
   "execution_count": 11,
   "metadata": {},
   "outputs": [
    {
     "data": {
      "image/png": "[encoded data removed]",
      "text/latex": [
       "$$\\sin^{2}{\\left (\\theta \\right )} + \\cos^{2}{\\left (\\theta \\right )}$$"
      ],
      "text/plain": [
       "   2         2   \n",
       "sin (θ) + cos (θ)"
      ]
     },
     "execution_count": 11,
     "metadata": {},
     "output_type": "execute_result"
    }
   ],
   "source": [
    "from sympy import Symbol, cos, simplify, sin\n",
    "\n",
    "theta = Symbol(\"theta\")\n",
    "sin(theta)**2 + cos(theta)**2"
   ]
  },
  {
   "cell_type": "code",
   "execution_count": 12,
   "metadata": {},
   "outputs": [
    {
     "data": {
      "image/png": "[encoded data removed]",
      "text/latex": [
       "$$1$$"
      ],
      "text/plain": [
       "1"
      ]
     },
     "execution_count": 12,
     "metadata": {},
     "output_type": "execute_result"
    }
   ],
   "source": [
    "simplify(sin(theta)**2 + cos(theta)**2)"
   ]
  },
  {
   "cell_type": "markdown",
   "metadata": {},
   "source": [
    "# Solvers\n",
    "\n",
    "$$ax^{2} + bx + c = 0$$"
   ]
  },
  {
   "cell_type": "code",
   "execution_count": 13,
   "metadata": {},
   "outputs": [
    {
     "data": {
      "image/png": "[encoded data removed]",
      "text/latex": [
       "$$a x^{2} + b x + c = 0$$"
      ],
      "text/plain": [
       "   2              \n",
       "a⋅x  + b⋅x + c = 0"
      ]
     },
     "execution_count": 13,
     "metadata": {},
     "output_type": "execute_result"
    }
   ],
   "source": [
    "from sympy import Eq, simplify, solveset, symbols\n",
    "\n",
    "x, a, b, c = symbols(\"x, a, b, c\")\n",
    "eq = Eq(a * x**2 + b * x + c, 0)\n",
    "eq"
   ]
  },
  {
   "cell_type": "code",
   "execution_count": 14,
   "metadata": {},
   "outputs": [
    {
     "data": {
      "image/png": "[encoded data removed]",
      "text/latex": [
       "$$\\left\\{\\frac{- b + \\sqrt{- 4 a c + b^{2}}}{2 a}, - \\frac{b + \\sqrt{- 4 a c + b^{2}}}{2 a}\\right\\}$$"
      ],
      "text/plain": [
       "⎧        _____________   ⎛       _____________⎞ ⎫\n",
       "⎪       ╱           2    ⎜      ╱           2 ⎟ ⎪\n",
       "⎨-b + ╲╱  -4⋅a⋅c + b    -⎝b + ╲╱  -4⋅a⋅c + b  ⎠ ⎬\n",
       "⎪─────────────────────, ────────────────────────⎪\n",
       "⎩         2⋅a                     2⋅a           ⎭"
      ]
     },
     "execution_count": 14,
     "metadata": {},
     "output_type": "execute_result"
    }
   ],
   "source": [
    "simplify(solveset(eq, x))"
   ]
  },
  {
   "cell_type": "markdown",
   "metadata": {},
   "source": [
    "# Quintic Equation\n",
    "\n",
    "$$ax^{5} + bx^{4} + cx^{3} + dx^{2} + ex + f = 0$$\n",
    "\n",
    "Symmetric group $\\mathfrak{S}_{5}$ is non-solvable symmetric group."
   ]
  },
  {
   "cell_type": "code",
   "execution_count": 15,
   "metadata": {},
   "outputs": [
    {
     "data": {
      "image/png": "[encoded data removed]",
      "text/latex": [
       "$$\\left\\{x \\mid x \\in \\mathbb{C} \\wedge a x^{5} + b x^{4} + c x^{3} + d x^{2} + e x + f = 0 \\right\\}$$"
      ],
      "text/plain": [
       "⎧               5      4      3      2              ⎫\n",
       "⎨x | x ∊ ℂ ∧ a⋅x  + b⋅x  + c⋅x  + d⋅x  + e⋅x + f = 0⎬\n",
       "⎩                                                   ⎭"
      ]
     },
     "execution_count": 15,
     "metadata": {},
     "output_type": "execute_result"
    }
   ],
   "source": [
    "from sympy import Eq, simplify, solveset, symbols\n",
    "\n",
    "x, a, b, c, d, e, f = symbols(\"x, a, b, c, d, e, f\")\n",
    "eq = Eq(a * x**5 + b * x**4 + c * x**3 + d * x**2 + e * x + f, 0)\n",
    "simplify(solveset(eq, x))"
   ]
  },
  {
   "cell_type": "markdown",
   "metadata": {},
   "source": [
    "# Polynomials"
   ]
  },
  {
   "cell_type": "code",
   "execution_count": 16,
   "metadata": {},
   "outputs": [
    {
     "data": {
      "image/png": "[encoded data removed]",
      "text/latex": [
       "$$\\left ( \\frac{5 x}{2} + \\frac{5}{2}, \\quad -2\\right )$$"
      ],
      "text/plain": [
       "⎛5⋅x   5    ⎞\n",
       "⎜─── + ─, -2⎟\n",
       "⎝ 2    2    ⎠"
      ]
     },
     "execution_count": 16,
     "metadata": {},
     "output_type": "execute_result"
    }
   ],
   "source": [
    "from sympy import Symbol, div\n",
    "\n",
    "x = Symbol(\"x\")\n",
    "\n",
    "f = 5 * x**2 + 10 * x + 3\n",
    "g = 2 * x + 2\n",
    "\n",
    "div(f, g, domain=\"QQ\") # Q[x]"
   ]
  },
  {
   "cell_type": "code",
   "execution_count": 17,
   "metadata": {},
   "outputs": [
    {
     "data": {
      "image/png": "[encoded data removed]",
      "text/latex": [
       "$$\\left ( 0, \\quad 5 x^{2} + 10 x + 3\\right )$$"
      ],
      "text/plain": [
       "⎛      2           ⎞\n",
       "⎝0, 5⋅x  + 10⋅x + 3⎠"
      ]
     },
     "execution_count": 17,
     "metadata": {},
     "output_type": "execute_result"
    }
   ],
   "source": [
    "div(f, g, domain=\"ZZ\")  # Z[x]"
   ]
  },
  {
   "cell_type": "markdown",
   "metadata": {},
   "source": [
    "# Limits\n",
    "\n",
    "$$\\displaystyle \\lim_{x \\to 0} \\frac{\\sin{x}}{x}$$"
   ]
  },
  {
   "cell_type": "code",
   "execution_count": 18,
   "metadata": {},
   "outputs": [
    {
     "data": {
      "image/png": "[encoded data removed]",
      "text/plain": [
       "<Figure size 432x288 with 1 Axes>"
      ]
     },
     "metadata": {},
     "output_type": "display_data"
    },
    {
     "data": {
      "text/plain": [
       "<sympy.plotting.plot.Plot at 0x2924d24c1d0>"
      ]
     },
     "execution_count": 18,
     "metadata": {},
     "output_type": "execute_result"
    }
   ],
   "source": [
    "from sympy import Symbol, limit, pi, sin\n",
    "from sympy.plotting import plot\n",
    "\n",
    "x = Symbol(\"x\")\n",
    "f = (sin(x) / x)\n",
    "plot(f, (x, -4 * pi, 4 * pi))"
   ]
  },
  {
   "cell_type": "code",
   "execution_count": 19,
   "metadata": {},
   "outputs": [
    {
     "data": {
      "image/png": "[encoded data removed]",
      "text/latex": [
       "$$1$$"
      ],
      "text/plain": [
       "1"
      ]
     },
     "execution_count": 19,
     "metadata": {},
     "output_type": "execute_result"
    }
   ],
   "source": [
    "limit(f, x, 0, \"+\")"
   ]
  },
  {
   "cell_type": "markdown",
   "metadata": {},
   "source": [
    "# Derivative\n",
    "\n",
    "$$ \\frac{d}{dx} e^{x}\\sin{x} $$"
   ]
  },
  {
   "cell_type": "code",
   "execution_count": null,
   "metadata": {},
   "outputs": [],
   "source": [
    "from sympy import Symbol, Derivative, exp, sin\n",
    "\n",
    "x = Symbol(\"x\")\n",
    "f = exp(x) * sin(x)\n",
    "expr = Derivative(f, x)\n",
    "expr"
   ]
  },
  {
   "cell_type": "code",
   "execution_count": null,
   "metadata": {},
   "outputs": [],
   "source": [
    "expr.doit()"
   ]
  },
  {
   "cell_type": "markdown",
   "metadata": {},
   "source": [
    "# Partial Derivative\n",
    "\n",
    "$$\\frac{\\partial^{7}}{\\partial z^{4}\\partial y^{2}\\partial x} e^{x y z}$$"
   ]
  },
  {
   "cell_type": "code",
   "execution_count": null,
   "metadata": {},
   "outputs": [],
   "source": [
    "from sympy import Derivative, symbols, exp\n",
    "\n",
    "x, y, z = symbols(\"x, y, z\")\n",
    "f = exp(x*y*z)\n",
    "expr = Derivative(f, x, y, y, z, z, z, z)\n",
    "expr"
   ]
  },
  {
   "cell_type": "code",
   "execution_count": null,
   "metadata": {},
   "outputs": [],
   "source": [
    "expr.doit()"
   ]
  },
  {
   "cell_type": "markdown",
   "metadata": {},
   "source": [
    "# Taylor Series\n",
    "\n",
    "$$ f(x) = \\sum^{n}_{k=0} \\frac{f^{(k)}(a)}{k!} (x-a)^{k} + h_{k}(x)(x-a)^{k}, \\text{where} \\lim_{x \\to a}h_{k}(x) = 0$$"
   ]
  },
  {
   "cell_type": "code",
   "execution_count": null,
   "metadata": {},
   "outputs": [],
   "source": [
    "from sympy import Symbol, cos, pi, sin\n",
    "from sympy.plotting import plot\n",
    "\n",
    "x = Symbol(\"x\")\n",
    "f = sin(x) + cos(2 * x)\n",
    "plot(f, f.series(n=10).removeO(), (x, -2*pi, 2*pi), xlim=(-7, 7), ylim=(-2, 2))"
   ]
  },
  {
   "cell_type": "markdown",
   "metadata": {},
   "source": [
    "# Integral\n",
    "\n",
    "$$ \\int^{\\infty}_{-\\infty}\\frac{\\cos{x}}{x^{2} + 1}dx$$"
   ]
  },
  {
   "cell_type": "code",
   "execution_count": null,
   "metadata": {},
   "outputs": [],
   "source": [
    "from sympy import Integral, Symbol, cos, oo, simplify\n",
    "\n",
    "x = Symbol(\"x\")\n",
    "f = cos(x) / (1 + x**2)\n",
    "plot(f, (x, -4*pi, 4*pi))"
   ]
  },
  {
   "cell_type": "code",
   "execution_count": null,
   "metadata": {},
   "outputs": [],
   "source": [
    "expr = Integral(f, (x, -oo, oo))\n",
    "expr"
   ]
  },
  {
   "cell_type": "code",
   "execution_count": null,
   "metadata": {},
   "outputs": [],
   "source": [
    "simplify(expr.doit())"
   ]
  },
  {
   "cell_type": "markdown",
   "metadata": {},
   "source": [
    "# Differential Equation of Simple Harmonic Motion\n",
    "\n",
    "$$ \\frac{d^{2}}{dt^{2}} f(t) = - \\frac{k}{m}f(t)$$"
   ]
  },
  {
   "cell_type": "code",
   "execution_count": null,
   "metadata": {},
   "outputs": [],
   "source": [
    "from sympy import Derivative, Function, Symbol, classify_ode, dsolve, symbols\n",
    "\n",
    "t = Symbol(\"t\")\n",
    "k, m = symbols(\"k, m\", positive=True)  # k and m should be positive constant\n",
    "f = Function(\"f\")(t)\n",
    "expr = Derivative(f, t, 2) + (k / m) * f\n",
    "expr"
   ]
  },
  {
   "cell_type": "code",
   "execution_count": null,
   "metadata": {},
   "outputs": [],
   "source": [
    "classify_ode(expr)"
   ]
  },
  {
   "cell_type": "code",
   "execution_count": null,
   "metadata": {},
   "outputs": [],
   "source": [
    "dsolve(expr)"
   ]
  },
  {
   "cell_type": "markdown",
   "metadata": {},
   "source": [
    "# Vandermonde's Determinant"
   ]
  },
  {
   "cell_type": "code",
   "execution_count": null,
   "metadata": {},
   "outputs": [],
   "source": [
    "from sympy import Matrix, factor, symbols\n",
    "\n",
    "a, b, c, d = symbols(\"a, b, c, d\")\n",
    "A = Matrix([\n",
    "    [1, 1, 1, 1], \n",
    "    [a, b, c, d], \n",
    "    [a**2, b**2, c**2, d**2],\n",
    "    [a**3, b**3, c**3, d**3],\n",
    "])\n",
    "A"
   ]
  },
  {
   "cell_type": "code",
   "execution_count": null,
   "metadata": {},
   "outputs": [],
   "source": [
    "factor(A.det())"
   ]
  },
  {
   "cell_type": "markdown",
   "metadata": {},
   "source": [
    "# Characteristic Polynomial"
   ]
  },
  {
   "cell_type": "code",
   "execution_count": null,
   "metadata": {},
   "outputs": [],
   "source": [
    "from sympy import Symbol, Matrix, factor, eye, zeros\n",
    "\n",
    "lamda = Symbol('lamda')\n",
    "\n",
    "A = Matrix([\n",
    "    [0, 0, 0, 0, 1], \n",
    "    [0, 0, 0, 1, 0], \n",
    "    [0, 0, 1, 0, 0],\n",
    "    [0, 1, 0, 0, 0],\n",
    "    [1, 0, 0, 0, 1],\n",
    "])\n",
    "A"
   ]
  },
  {
   "cell_type": "code",
   "execution_count": null,
   "metadata": {},
   "outputs": [],
   "source": [
    "p = A.charpoly(lamda)\n",
    "factor(p)  # Characteristics Polynomial of A"
   ]
  },
  {
   "cell_type": "markdown",
   "metadata": {},
   "source": [
    "# Bertrand–Chebyshev Theorem\n",
    "\n",
    "Let $\\{p_{n}\\} _{n\\ge1}$ be a sequence of prime numbers, then $p_{n+1} < 2p_{n}$.\n",
    "\n",
    "In 1845, Joseph Bertrand himself verified his statement for $2$ to $3 \\times 10^{6}$. In 2018, Hayao Suzuki verified this statement for $2$ to $3 \\times 10^{6}$ by Shift-Enter!"
   ]
  },
  {
   "cell_type": "code",
   "execution_count": null,
   "metadata": {},
   "outputs": [],
   "source": [
    "from itertools import tee\n",
    "from sympy import sieve\n",
    "\n",
    "def pairwise(iterable):\n",
    "    \"\"\"s -> (s0,s1), (s1,s2), (s2, s3), ...\"\"\"\n",
    "    a, b = tee(iterable)\n",
    "    next(b, None)\n",
    "    return zip(a, b)\n",
    "\n",
    "\n",
    "all([p < q < 2 * p for p, q in pairwise(sieve.primerange(1, 3 * (10**6)))])"
   ]
  },
  {
   "cell_type": "markdown",
   "metadata": {},
   "source": [
    "# OK, When do I use SymPy?"
   ]
  },
  {
   "cell_type": "code",
   "execution_count": null,
   "metadata": {},
   "outputs": [],
   "source": []
  }
 ],
 "metadata": {
  "kernelspec": {
   "display_name": "Python 3",
   "language": "python",
   "name": "python3"
  },
  "language_info": {
   "codemirror_mode": {
    "name": "ipython",
    "version": 3
   },
   "file_extension": ".py",
   "mimetype": "text/x-python",
   "name": "python",
   "nbconvert_exporter": "python",
   "pygments_lexer": "ipython3",
   "version": "3.6.5"
  }
 },
 "nbformat": 4,
 "nbformat_minor": 2
}
