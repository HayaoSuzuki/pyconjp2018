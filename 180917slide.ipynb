{
 "cells": [
  {
   "cell_type": "markdown",
   "metadata": {
    "slideshow": {
     "slide_type": "slide"
    }
   },
   "source": [
    "# Symbolic Mathematics using SymPy\n",
    "\n",
    "## Hayao Suzuki\n",
    "\n",
    "- PyCon JP 2018 at Ota City Industrial Plaza\n",
    "- September 17, 2018"
   ]
  },
  {
   "cell_type": "markdown",
   "metadata": {
    "slideshow": {
     "slide_type": "slide"
    }
   },
   "source": [
    "# About Me\n",
    "\n",
    "- Name: Hayao Suzuki (@CardinalXaro)\n",
    "- Blog: https://xaro.hatenablog.jp/\n",
    "- Major: Mathematics (Combinatorics, Number Theory)\n",
    "- Work: Python Programmer at [iRidge, Inc.](https://iridge.jp/)\n",
    "\n",
    "# Reviewed Books (Excerpted)\n",
    "\n",
    "- Effective Python (O’Reilly Japan)\n",
    "- アルゴリズム クイックリファレンス 第 2 版 (O’Reilly Japan)\n",
    "- すらすらわかる Python （翔泳社）\n",
    "- Head First Python 第 2 版 (O’Reilly Japan)\n",
    "- Python データサイエンスハンドブック (O’Reilly Japan)\n",
    "- Python によるデータ分析入門 第 2 版 (O’Reilly Japan)"
   ]
  },
  {
   "cell_type": "markdown",
   "metadata": {
    "slideshow": {
     "slide_type": "slide"
    }
   },
   "source": [
    "# What’s SymPy?\n",
    "\n",
    "- A Python library for symbolic mathematics\n",
    "- Open source software(BSD license)\n",
    "- Written in pure Python\n",
    "- Dependency on mpmath library only\n",
    "\n",
    "\n",
    "# What’s mpmath?\n",
    "\n",
    "- Real and complex floating point arithmetic with arbitrary precision"
   ]
  },
  {
   "cell_type": "markdown",
   "metadata": {
    "slideshow": {
     "slide_type": "slide"
    }
   },
   "source": [
    "# Symbolic vs Numeric\n",
    "\n",
    "## Solve this equation:\n",
    "\n",
    "$$x^2 -8 = 0$$\n",
    "\n",
    "### Symbolic\n",
    "\n",
    "$$x = \\pm 2\\sqrt{2}$$\n",
    "\n",
    "### Numeric\n",
    "\n",
    "$$x = \\pm 2.82842712474619$$"
   ]
  },
  {
   "cell_type": "markdown",
   "metadata": {
    "slideshow": {
     "slide_type": "slide"
    }
   },
   "source": [
    "# Open Source vs Proprietary\n",
    "\n",
    "## Open Source Software\n",
    "- Maxima (Lisp)\n",
    "- SymPy\n",
    "- SageMath (Including SymPy, Python 2 only)\n",
    "\n",
    "## Proprietary Software\n",
    "- Mathematica\n",
    "- Maple\n",
    "- Magma\n",
    "\n",
    "\n",
    "## My History\n",
    "\n",
    "I used Mathematica when I was undergraduate, but I lost my student license when I became a graduate student."
   ]
  },
  {
   "cell_type": "markdown",
   "metadata": {
    "slideshow": {
     "slide_type": "slide"
    }
   },
   "source": [
    "# How to Install and Use SymPy\n",
    "\n",
    "## How to Install Sympy\n",
    "\n",
    "- `$ pip install sympy` (from PyPI)\n",
    "- `$ conda update sympy` (from Anaconda)\n",
    "- See http://docs.sympy.org/latest/install.html for more detail\n",
    "\n",
    "\n",
    "## How to Use Sympy \n",
    "\n",
    "- `import sympy`\n",
    "- `$ isympy`\n",
    "- Jupyter Notebook (I recommend)\n",
    "\n",
    "\n",
    "## I don’t want to install SymPy, but want to use it...\n",
    "\n",
    "- OK, let’s go to http://live.sympy.org/"
   ]
  },
  {
   "cell_type": "code",
   "execution_count": 1,
   "metadata": {
    "slideshow": {
     "slide_type": "notes"
    }
   },
   "outputs": [],
   "source": [
    "from sympy import init_printing\n",
    "\n",
    "init_printing()"
   ]
  },
  {
   "cell_type": "markdown",
   "metadata": {
    "slideshow": {
     "slide_type": "slide"
    }
   },
   "source": [
    "# Basics"
   ]
  },
  {
   "cell_type": "markdown",
   "metadata": {
    "slideshow": {
     "slide_type": "slide"
    }
   },
   "source": [
    "# Expand and Factor\n",
    "\n",
    "$$ (a + 2b + 3c)^{3} $$"
   ]
  },
  {
   "cell_type": "code",
   "execution_count": 2,
   "metadata": {
    "slideshow": {
     "slide_type": "fragment"
    }
   },
   "outputs": [
    {
     "data": {
      "image/png": "[encoded data removed]",
      "text/latex": [
       "$$\\left(a + 2 b + 3 c\\right)^{3}$$"
      ],
      "text/plain": [
       "               3\n",
       "(a + 2⋅b + 3⋅c) "
      ]
     },
     "execution_count": 2,
     "metadata": {},
     "output_type": "execute_result"
    }
   ],
   "source": [
    "from sympy import Symbol, symbols\n",
    "\n",
    "a = Symbol(\"a\")\n",
    "b, c = symbols(\"b, c\")\n",
    "\n",
    "expr = (a + 2 * b + 3 * c) **3\n",
    "expr"
   ]
  },
  {
   "cell_type": "code",
   "execution_count": 3,
   "metadata": {
    "slideshow": {
     "slide_type": "fragment"
    }
   },
   "outputs": [
    {
     "data": {
      "image/png": "[encoded data removed]",
      "text/latex": [
       "$$a^{3} + 6 a^{2} b + 9 a^{2} c + 12 a b^{2} + 36 a b c + 27 a c^{2} + 8 b^{3} + 36 b^{2} c + 54 b c^{2} + 27 c^{3}$$"
      ],
      "text/plain": [
       " 3      2        2           2                    2      3       2           2\n",
       "a  + 6⋅a ⋅b + 9⋅a ⋅c + 12⋅a⋅b  + 36⋅a⋅b⋅c + 27⋅a⋅c  + 8⋅b  + 36⋅b ⋅c + 54⋅b⋅c \n",
       "\n",
       "       3\n",
       " + 27⋅c "
      ]
     },
     "execution_count": 3,
     "metadata": {},
     "output_type": "execute_result"
    }
   ],
   "source": [
    "expanded =  expr.expand()\n",
    "expanded"
   ]
  },
  {
   "cell_type": "code",
   "execution_count": 4,
   "metadata": {
    "slideshow": {
     "slide_type": "fragment"
    }
   },
   "outputs": [
    {
     "data": {
      "image/png": "[encoded data removed]",
      "text/latex": [
       "$$\\left(a + 2 b + 3 c\\right)^{3}$$"
      ],
      "text/plain": [
       "               3\n",
       "(a + 2⋅b + 3⋅c) "
      ]
     },
     "execution_count": 4,
     "metadata": {},
     "output_type": "execute_result"
    }
   ],
   "source": [
    "expanded.factor()"
   ]
  },
  {
   "cell_type": "markdown",
   "metadata": {
    "slideshow": {
     "slide_type": "slide"
    }
   },
   "source": [
    "# Solvers\n",
    "\n",
    "$$ax^{2} + bx + c = 0$$"
   ]
  },
  {
   "cell_type": "code",
   "execution_count": 5,
   "metadata": {
    "slideshow": {
     "slide_type": "fragment"
    }
   },
   "outputs": [
    {
     "data": {
      "image/png": "[encoded data removed]",
      "text/latex": [
       "$$a x^{2} + b x + c = 0$$"
      ],
      "text/plain": [
       "   2              \n",
       "a⋅x  + b⋅x + c = 0"
      ]
     },
     "execution_count": 5,
     "metadata": {},
     "output_type": "execute_result"
    }
   ],
   "source": [
    "from sympy import Eq, simplify, solveset, symbols\n",
    "\n",
    "x, a, b, c= symbols(\"x, a, b, c\")\n",
    "eq = Eq(a * x**2 + b * x + c, 0)\n",
    "eq"
   ]
  },
  {
   "cell_type": "code",
   "execution_count": 6,
   "metadata": {
    "slideshow": {
     "slide_type": "fragment"
    }
   },
   "outputs": [
    {
     "data": {
      "image/png": "[encoded data removed]",
      "text/latex": [
       "$$\\left\\{\\frac{- b + \\sqrt{- 4 a c + b^{2}}}{2 a}, - \\frac{b + \\sqrt{- 4 a c + b^{2}}}{2 a}\\right\\}$$"
      ],
      "text/plain": [
       "⎧        _____________   ⎛       _____________⎞ ⎫\n",
       "⎪       ╱           2    ⎜      ╱           2 ⎟ ⎪\n",
       "⎨-b + ╲╱  -4⋅a⋅c + b    -⎝b + ╲╱  -4⋅a⋅c + b  ⎠ ⎬\n",
       "⎪─────────────────────, ────────────────────────⎪\n",
       "⎩         2⋅a                     2⋅a           ⎭"
      ]
     },
     "execution_count": 6,
     "metadata": {},
     "output_type": "execute_result"
    }
   ],
   "source": [
    "simplify(solveset(eq, x))"
   ]
  },
  {
   "cell_type": "markdown",
   "metadata": {
    "slideshow": {
     "slide_type": "slide"
    }
   },
   "source": [
    "# Solver with Domains\n",
    "\n",
    "$$x^{3} - 1 = 0$$"
   ]
  },
  {
   "cell_type": "code",
   "execution_count": 7,
   "metadata": {
    "slideshow": {
     "slide_type": "fragment"
    }
   },
   "outputs": [
    {
     "data": {
      "image/png": "[encoded data removed]",
      "text/latex": [
       "$$x^{3} - 1 = 0$$"
      ],
      "text/plain": [
       " 3        \n",
       "x  - 1 = 0"
      ]
     },
     "execution_count": 7,
     "metadata": {},
     "output_type": "execute_result"
    }
   ],
   "source": [
    "from sympy import Eq, S, Symbol, simplify, solveset\n",
    "\n",
    "x = Symbol(\"x\")\n",
    "eq = Eq(x**3 -1, 0)\n",
    "eq"
   ]
  },
  {
   "cell_type": "code",
   "execution_count": 8,
   "metadata": {
    "slideshow": {
     "slide_type": "fragment"
    }
   },
   "outputs": [
    {
     "data": {
      "image/png": "[encoded data removed]",
      "text/latex": [
       "$$\\left\\{1, - \\frac{1}{2} - \\frac{\\sqrt{3} i}{2}, - \\frac{1}{2} + \\frac{\\sqrt{3} i}{2}\\right\\}$$"
      ],
      "text/plain": [
       "⎧     1   √3⋅ⅈ    1   √3⋅ⅈ⎫\n",
       "⎨1, - ─ - ────, - ─ + ────⎬\n",
       "⎩     2    2      2    2  ⎭"
      ]
     },
     "execution_count": 8,
     "metadata": {},
     "output_type": "execute_result"
    }
   ],
   "source": [
    "simplify(solveset(eq, x))  # Complex Fields"
   ]
  },
  {
   "cell_type": "code",
   "execution_count": 9,
   "metadata": {
    "slideshow": {
     "slide_type": "fragment"
    }
   },
   "outputs": [
    {
     "data": {
      "image/png": "[encoded data removed]",
      "text/latex": [
       "$$\\left\\{1\\right\\}$$"
      ],
      "text/plain": [
       "{1}"
      ]
     },
     "execution_count": 9,
     "metadata": {},
     "output_type": "execute_result"
    }
   ],
   "source": [
    "solveset(eq, x, domain=S.Reals)  # Real Fields"
   ]
  },
  {
   "cell_type": "markdown",
   "metadata": {
    "slideshow": {
     "slide_type": "slide"
    }
   },
   "source": [
    "# Satisfiability Problem\n",
    "\n",
    "$$(x \\vee x \\vee y) \\wedge (\\neg x \\vee \\neg y \\vee \\neg y) \\wedge (\\neg x \\vee y \\vee y)$$"
   ]
  },
  {
   "cell_type": "code",
   "execution_count": 10,
   "metadata": {
    "slideshow": {
     "slide_type": "fragment"
    }
   },
   "outputs": [
    {
     "data": {
      "image/png": "[encoded data removed]",
      "text/latex": [
       "$$\\left(x \\vee y\\right) \\wedge \\left(y \\vee \\neg x\\right) \\wedge \\left(\\neg x \\vee \\neg y\\right)$$"
      ],
      "text/plain": [
       "(x ∨ y) ∧ (y ∨ ¬x) ∧ (¬x ∨ ¬y)"
      ]
     },
     "execution_count": 10,
     "metadata": {},
     "output_type": "execute_result"
    }
   ],
   "source": [
    "from sympy import satisfiable, symbols\n",
    "\n",
    "x, y = symbols(\"x, y\")\n",
    "expr = (x | x | y) & (~x | ~y | ~y) & (~x | y | y)\n",
    "expr"
   ]
  },
  {
   "cell_type": "code",
   "execution_count": 11,
   "metadata": {
    "slideshow": {
     "slide_type": "fragment"
    }
   },
   "outputs": [
    {
     "data": {
      "text/plain": [
       "{y: True, x: False}"
      ]
     },
     "execution_count": 11,
     "metadata": {},
     "output_type": "execute_result"
    }
   ],
   "source": [
    "satisfiable(expr)"
   ]
  },
  {
   "cell_type": "markdown",
   "metadata": {
    "slideshow": {
     "slide_type": "slide"
    }
   },
   "source": [
    "# Calculus"
   ]
  },
  {
   "cell_type": "markdown",
   "metadata": {
    "slideshow": {
     "slide_type": "slide"
    }
   },
   "source": [
    "# Limits\n",
    "\n",
    "$$\\displaystyle \\lim_{x \\to 0} \\frac{\\sin{x}}{x}$$"
   ]
  },
  {
   "cell_type": "code",
   "execution_count": 12,
   "metadata": {
    "slideshow": {
     "slide_type": "fragment"
    }
   },
   "outputs": [
    {
     "data": {
      "image/png": "[encoded data removed]",
      "text/latex": [
       "$$\\lim_{x \\to 0^+}\\left(\\frac{\\sin{\\left (x \\right )}}{x}\\right)$$"
      ],
      "text/plain": [
       "     ⎛sin(x)⎞\n",
       " lim ⎜──────⎟\n",
       "x─→0⁺⎝  x   ⎠"
      ]
     },
     "execution_count": 12,
     "metadata": {},
     "output_type": "execute_result"
    }
   ],
   "source": [
    "from sympy import Limit, Symbol, sin\n",
    "\n",
    "x = Symbol(\"x\")\n",
    "f = (sin(x) / x)\n",
    "expr = Limit(f, x, 0, \"+\")\n",
    "expr"
   ]
  },
  {
   "cell_type": "code",
   "execution_count": 13,
   "metadata": {
    "slideshow": {
     "slide_type": "fragment"
    }
   },
   "outputs": [
    {
     "data": {
      "image/png": "[encoded data removed]",
      "text/latex": [
       "$$1$$"
      ],
      "text/plain": [
       "1"
      ]
     },
     "execution_count": 13,
     "metadata": {},
     "output_type": "execute_result"
    }
   ],
   "source": [
    "expr.doit()"
   ]
  },
  {
   "cell_type": "code",
   "execution_count": 14,
   "metadata": {},
   "outputs": [
    {
     "data": {
      "image/png": "[encoded data removed]",
      "text/latex": [
       "$$1$$"
      ],
      "text/plain": [
       "1"
      ]
     },
     "execution_count": 14,
     "metadata": {},
     "output_type": "execute_result"
    }
   ],
   "source": [
    "Limit(f, x, 0, \"-\").doit()"
   ]
  },
  {
   "cell_type": "markdown",
   "metadata": {
    "slideshow": {
     "slide_type": "slide"
    }
   },
   "source": [
    "# Derivative\n",
    "\n",
    "$$ \\frac{d}{dx} e^{x}\\sin{x} $$"
   ]
  },
  {
   "cell_type": "code",
   "execution_count": 15,
   "metadata": {
    "slideshow": {
     "slide_type": "fragment"
    }
   },
   "outputs": [
    {
     "data": {
      "image/png": "[encoded data removed]",
      "text/latex": [
       "$$\\frac{d}{d x} e^{x} \\sin{\\left (x \\right )}$$"
      ],
      "text/plain": [
       "d ⎛ x       ⎞\n",
       "──⎝ℯ ⋅sin(x)⎠\n",
       "dx           "
      ]
     },
     "execution_count": 15,
     "metadata": {},
     "output_type": "execute_result"
    }
   ],
   "source": [
    "from sympy import Symbol, Derivative, exp, sin\n",
    "\n",
    "x = Symbol(\"x\")\n",
    "f = exp(x) * sin(x)\n",
    "expr = Derivative(f, x)\n",
    "expr"
   ]
  },
  {
   "cell_type": "code",
   "execution_count": 16,
   "metadata": {
    "slideshow": {
     "slide_type": "fragment"
    }
   },
   "outputs": [
    {
     "data": {
      "image/png": "[encoded data removed]",
      "text/latex": [
       "$$e^{x} \\sin{\\left (x \\right )} + e^{x} \\cos{\\left (x \\right )}$$"
      ],
      "text/plain": [
       " x           x       \n",
       "ℯ ⋅sin(x) + ℯ ⋅cos(x)"
      ]
     },
     "execution_count": 16,
     "metadata": {},
     "output_type": "execute_result"
    }
   ],
   "source": [
    "expr.doit()"
   ]
  },
  {
   "cell_type": "markdown",
   "metadata": {
    "slideshow": {
     "slide_type": "slide"
    }
   },
   "source": [
    "# Quotient Rule of Derivatives\n",
    "\n",
    "$$ \\frac{d}{dx} \\frac{f(x)}{g(x)}$$"
   ]
  },
  {
   "cell_type": "code",
   "execution_count": 17,
   "metadata": {
    "slideshow": {
     "slide_type": "fragment"
    }
   },
   "outputs": [
    {
     "data": {
      "image/png": "[encoded data removed]",
      "text/latex": [
       "$$\\frac{d}{d x} \\frac{f{\\left (x \\right )}}{g{\\left (x \\right )}}$$"
      ],
      "text/plain": [
       "d ⎛f(x)⎞\n",
       "──⎜────⎟\n",
       "dx⎝g(x)⎠"
      ]
     },
     "execution_count": 17,
     "metadata": {},
     "output_type": "execute_result"
    }
   ],
   "source": [
    "from sympy import Derivative, Function, Symbol, simplify\n",
    "\n",
    "x = Symbol(\"x\")\n",
    "f = Function(\"f\")(x)\n",
    "g = Function(\"g\")(x)\n",
    "\n",
    "expr = Derivative(f / g, x)\n",
    "expr"
   ]
  },
  {
   "cell_type": "code",
   "execution_count": 18,
   "metadata": {
    "slideshow": {
     "slide_type": "fragment"
    }
   },
   "outputs": [
    {
     "data": {
      "image/png": "[encoded data removed]",
      "text/latex": [
       "$$\\frac{- f{\\left (x \\right )} \\frac{d}{d x} g{\\left (x \\right )} + g{\\left (x \\right )} \\frac{d}{d x} f{\\left (x \\right )}}{g^{2}{\\left (x \\right )}}$$"
      ],
      "text/plain": [
       "       d               d       \n",
       "- f(x)⋅──(g(x)) + g(x)⋅──(f(x))\n",
       "       dx              dx      \n",
       "───────────────────────────────\n",
       "              2                \n",
       "             g (x)             "
      ]
     },
     "execution_count": 18,
     "metadata": {},
     "output_type": "execute_result"
    }
   ],
   "source": [
    "simplify(expr.doit())"
   ]
  },
  {
   "cell_type": "markdown",
   "metadata": {
    "slideshow": {
     "slide_type": "slide"
    }
   },
   "source": [
    "# Taylor series\n",
    "\n",
    "$$ f(x) = \\sum^{n}_{k=0} \\frac{f^{(k)}(a)}{k!} (x-a)^{k} + h_{k}(x)(x-a)^{k}, \\text{where} \\lim_{x \\to a}h_{k}(x) = 0$$"
   ]
  },
  {
   "cell_type": "code",
   "execution_count": 19,
   "metadata": {
    "slideshow": {
     "slide_type": "fragment"
    }
   },
   "outputs": [
    {
     "data": {
      "image/png": "[encoded data removed]",
      "text/latex": [
       "$$e^{x} + \\sin{\\left (x \\right )}$$"
      ],
      "text/plain": [
       " x         \n",
       "ℯ  + sin(x)"
      ]
     },
     "execution_count": 19,
     "metadata": {},
     "output_type": "execute_result"
    }
   ],
   "source": [
    "from sympy import Symbol, exp, series, pi, sin\n",
    "\n",
    "x = Symbol(\"x\")\n",
    "f = exp(x) + sin(x)\n",
    "f"
   ]
  },
  {
   "cell_type": "code",
   "execution_count": 20,
   "metadata": {
    "slideshow": {
     "slide_type": "fragment"
    }
   },
   "outputs": [
    {
     "data": {
      "image/png": "[encoded data removed]",
      "text/latex": [
       "$$1 + 2 x + \\frac{x^{2}}{2} + \\frac{x^{4}}{24} + \\frac{x^{5}}{60} + O\\left(x^{6}\\right)$$"
      ],
      "text/plain": [
       "           2    4    5        \n",
       "          x    x    x     ⎛ 6⎞\n",
       "1 + 2⋅x + ── + ── + ── + O⎝x ⎠\n",
       "          2    24   60        "
      ]
     },
     "execution_count": 20,
     "metadata": {},
     "output_type": "execute_result"
    }
   ],
   "source": [
    "f.series() # Taylor Series at a = 0"
   ]
  },
  {
   "cell_type": "code",
   "execution_count": 21,
   "metadata": {
    "slideshow": {
     "slide_type": "fragment"
    }
   },
   "outputs": [
    {
     "data": {
      "image/png": "[encoded data removed]",
      "text/latex": [
       "$$e^{\\pi} + \\left(-1 + e^{\\pi}\\right) \\left(x - \\pi\\right) + \\frac{\\left(x - \\pi\\right)^{2} e^{\\pi}}{2} + O\\left(\\left(x - \\pi\\right)^{3}; x\\rightarrow \\pi\\right)$$"
      ],
      "text/plain": [
       "                                2  π                     \n",
       " π   ⎛      π⎞           (x - π) ⋅ℯ     ⎛       3       ⎞\n",
       "ℯ  + ⎝-1 + ℯ ⎠⋅(x - π) + ─────────── + O⎝(x - π) ; x → π⎠\n",
       "                              2                          "
      ]
     },
     "execution_count": 21,
     "metadata": {},
     "output_type": "execute_result"
    }
   ],
   "source": [
    "f.series(x0=pi, n=3) # Taylor Series at a = pi"
   ]
  },
  {
   "cell_type": "markdown",
   "metadata": {
    "slideshow": {
     "slide_type": "slide"
    }
   },
   "source": [
    "# Partial Derivative\n",
    "\n",
    "$$\\frac{\\partial^{7}}{\\partial z^{4}\\partial y^{2}\\partial x} e^{x y z}$$"
   ]
  },
  {
   "cell_type": "code",
   "execution_count": 22,
   "metadata": {
    "slideshow": {
     "slide_type": "fragment"
    }
   },
   "outputs": [
    {
     "data": {
      "image/png": "[encoded data removed]",
      "text/latex": [
       "$$\\frac{\\partial^{7}}{\\partial z^{4}\\partial y^{2}\\partial x} e^{x y z}$$"
      ],
      "text/plain": [
       "     7            \n",
       "    ∂     ⎛ x⋅y⋅z⎞\n",
       "──────────⎝ℯ     ⎠\n",
       "  4   2           \n",
       "∂z  ∂y  ∂x        "
      ]
     },
     "execution_count": 22,
     "metadata": {},
     "output_type": "execute_result"
    }
   ],
   "source": [
    "from sympy import Derivative, symbols, exp\n",
    "\n",
    "x, y, z = symbols(\"x, y, z\")\n",
    "f = exp(x*y*z)\n",
    "expr = Derivative(f, x, y, y, z, z, z, z)\n",
    "expr"
   ]
  },
  {
   "cell_type": "code",
   "execution_count": 23,
   "metadata": {
    "slideshow": {
     "slide_type": "fragment"
    }
   },
   "outputs": [
    {
     "data": {
      "image/png": "[encoded data removed]",
      "text/latex": [
       "$$x^{3} y^{2} \\left(x^{3} y^{3} z^{3} + 14 x^{2} y^{2} z^{2} + 52 x y z + 48\\right) e^{x y z}$$"
      ],
      "text/plain": [
       " 3  2 ⎛ 3  3  3       2  2  2                ⎞  x⋅y⋅z\n",
       "x ⋅y ⋅⎝x ⋅y ⋅z  + 14⋅x ⋅y ⋅z  + 52⋅x⋅y⋅z + 48⎠⋅ℯ     "
      ]
     },
     "execution_count": 23,
     "metadata": {},
     "output_type": "execute_result"
    }
   ],
   "source": [
    "expr.doit()"
   ]
  },
  {
   "cell_type": "markdown",
   "metadata": {
    "slideshow": {
     "slide_type": "slide"
    }
   },
   "source": [
    "# Integral\n",
    "\n",
    "$$ \\int^{\\pi}_{0} xe^{-x^{2}}dx$$"
   ]
  },
  {
   "cell_type": "code",
   "execution_count": 24,
   "metadata": {
    "slideshow": {
     "slide_type": "fragment"
    }
   },
   "outputs": [
    {
     "data": {
      "image/png": "[encoded data removed]",
      "text/latex": [
       "$$\\int_{0}^{\\pi} x e^{- x^{2}}\\, dx$$"
      ],
      "text/plain": [
       "π          \n",
       "⌠          \n",
       "⎮      2   \n",
       "⎮    -x    \n",
       "⎮ x⋅ℯ    dx\n",
       "⌡          \n",
       "0          "
      ]
     },
     "execution_count": 24,
     "metadata": {},
     "output_type": "execute_result"
    }
   ],
   "source": [
    "from sympy import Integral, Symbol, exp, pi\n",
    "\n",
    "x = Symbol(\"x\")\n",
    "f = x * exp(-x**2)\n",
    "expr = Integral(f, (x, 0, pi))\n",
    "expr"
   ]
  },
  {
   "cell_type": "code",
   "execution_count": 25,
   "metadata": {
    "slideshow": {
     "slide_type": "fragment"
    }
   },
   "outputs": [
    {
     "data": {
      "image/png": "[encoded data removed]",
      "text/latex": [
       "$$- \\frac{1}{2 e^{\\pi^{2}}} + \\frac{1}{2}$$"
      ],
      "text/plain": [
       "     2    \n",
       "   -π     \n",
       "  ℯ      1\n",
       "- ──── + ─\n",
       "   2     2"
      ]
     },
     "execution_count": 25,
     "metadata": {},
     "output_type": "execute_result"
    }
   ],
   "source": [
    "expr.doit()"
   ]
  },
  {
   "cell_type": "markdown",
   "metadata": {
    "slideshow": {
     "slide_type": "slide"
    }
   },
   "source": [
    "# Integral (Difficult for Me)\n",
    "\n",
    "$$ \\int^{\\infty}_{-\\infty}\\frac{\\cos{x}}{x^{2} + 1}dx$$"
   ]
  },
  {
   "cell_type": "code",
   "execution_count": 26,
   "metadata": {
    "slideshow": {
     "slide_type": "fragment"
    }
   },
   "outputs": [
    {
     "data": {
      "image/png": "[encoded data removed]",
      "text/latex": [
       "$$\\int_{-\\infty}^{\\infty} \\frac{\\cos{\\left (x \\right )}}{x^{2} + 1}\\, dx$$"
      ],
      "text/plain": [
       "∞           \n",
       "⌠           \n",
       "⎮  cos(x)   \n",
       "⎮  ────── dx\n",
       "⎮   2       \n",
       "⎮  x  + 1   \n",
       "⌡           \n",
       "-∞          "
      ]
     },
     "execution_count": 26,
     "metadata": {},
     "output_type": "execute_result"
    }
   ],
   "source": [
    "from sympy import Integral, Symbol, cos, oo, simplify\n",
    "\n",
    "x = Symbol(\"x\")\n",
    "f = cos(x) / (1 + x**2)\n",
    "expr = Integral(f, (x, -oo, oo))\n",
    "expr"
   ]
  },
  {
   "cell_type": "code",
   "execution_count": 27,
   "metadata": {
    "slideshow": {
     "slide_type": "fragment"
    }
   },
   "outputs": [
    {
     "data": {
      "image/png": "[encoded data removed]",
      "text/latex": [
       "$$\\sqrt{\\pi} \\left(- \\sqrt{\\pi} \\sinh{\\left (1 \\right )} + \\sqrt{\\pi} \\cosh{\\left (1 \\right )}\\right)$$"
      ],
      "text/plain": [
       "√π⋅(-√π⋅sinh(1) + √π⋅cosh(1))"
      ]
     },
     "execution_count": 27,
     "metadata": {},
     "output_type": "execute_result"
    }
   ],
   "source": [
    "expr.doit()"
   ]
  },
  {
   "cell_type": "code",
   "execution_count": 28,
   "metadata": {
    "slideshow": {
     "slide_type": "fragment"
    }
   },
   "outputs": [
    {
     "data": {
      "image/png": "[encoded data removed]",
      "text/latex": [
       "$$\\frac{\\pi}{e}$$"
      ],
      "text/plain": [
       "   -1\n",
       "π⋅ℯ  "
      ]
     },
     "execution_count": 28,
     "metadata": {},
     "output_type": "execute_result"
    }
   ],
   "source": [
    "simplify(expr.doit())"
   ]
  },
  {
   "cell_type": "markdown",
   "metadata": {
    "slideshow": {
     "slide_type": "slide"
    }
   },
   "source": [
    "# Multiple Integral\n",
    "\n",
    "$$ \\int^{\\infty}_{-\\infty} \\int^{\\infty}_{-\\infty} e^{-x^{2}-y^{2}}dxdy$$"
   ]
  },
  {
   "cell_type": "code",
   "execution_count": 29,
   "metadata": {
    "slideshow": {
     "slide_type": "fragment"
    }
   },
   "outputs": [
    {
     "data": {
      "image/png": "[encoded data removed]",
      "text/latex": [
       "$$\\int_{-\\infty}^{\\infty}\\int_{-\\infty}^{\\infty} e^{- x^{2} - y^{2}}\\, dx\\, dy$$"
      ],
      "text/plain": [
       "∞  ∞                  \n",
       "⌠  ⌠                  \n",
       "⎮  ⎮      2    2      \n",
       "⎮  ⎮   - x  - y       \n",
       "⎮  ⎮  ℯ          dx dy\n",
       "⌡  ⌡                  \n",
       "-∞ -∞                 "
      ]
     },
     "execution_count": 29,
     "metadata": {},
     "output_type": "execute_result"
    }
   ],
   "source": [
    "from sympy import Integral, exp, oo, symbols\n",
    "\n",
    "x, y = symbols(\"x, y\")\n",
    "f = exp(-x**2 -y**2)\n",
    "expr = Integral(f, (x, -oo, oo), (y, -oo, oo))\n",
    "expr"
   ]
  },
  {
   "cell_type": "code",
   "execution_count": 30,
   "metadata": {
    "slideshow": {
     "slide_type": "fragment"
    }
   },
   "outputs": [
    {
     "data": {
      "image/png": "[encoded data removed]",
      "text/latex": [
       "$$\\pi$$"
      ],
      "text/plain": [
       "π"
      ]
     },
     "execution_count": 30,
     "metadata": {},
     "output_type": "execute_result"
    }
   ],
   "source": [
    "expr.doit()"
   ]
  },
  {
   "cell_type": "markdown",
   "metadata": {
    "slideshow": {
     "slide_type": "slide"
    }
   },
   "source": [
    "# Differential Equation of Simple Harmonic Motion\n",
    "\n",
    "$$ \\frac{d^{2}}{dt^{2}} f(t) + \\frac{k}{m}f(t) = 0$$"
   ]
  },
  {
   "cell_type": "code",
   "execution_count": 31,
   "metadata": {
    "slideshow": {
     "slide_type": "fragment"
    }
   },
   "outputs": [
    {
     "data": {
      "image/png": "[encoded data removed]",
      "text/latex": [
       "$$\\frac{k f{\\left (t \\right )}}{m} + \\frac{d^{2}}{d t^{2}} f{\\left (t \\right )}$$"
      ],
      "text/plain": [
       "           2      \n",
       "k⋅f(t)    d       \n",
       "────── + ───(f(t))\n",
       "  m        2      \n",
       "         dt       "
      ]
     },
     "execution_count": 31,
     "metadata": {},
     "output_type": "execute_result"
    }
   ],
   "source": [
    "from sympy import Derivative, Function, Symbol, classify_ode, dsolve,  symbols, trigsimp\n",
    "\n",
    "t = Symbol(\"t\")\n",
    "k, m = symbols(\"k, m\", positive=True)  # k and m should be positive constant\n",
    "f = Function(\"f\")(t)\n",
    "expr = Derivative(f, t, 2) + (k / m) * f\n",
    "expr"
   ]
  },
  {
   "cell_type": "code",
   "execution_count": 32,
   "metadata": {
    "slideshow": {
     "slide_type": "fragment"
    }
   },
   "outputs": [
    {
     "data": {
      "text/plain": [
       "('nth_linear_constant_coeff_homogeneous',)"
      ]
     },
     "execution_count": 32,
     "metadata": {},
     "output_type": "execute_result"
    }
   ],
   "source": [
    "classify_ode(expr)"
   ]
  },
  {
   "cell_type": "code",
   "execution_count": 33,
   "metadata": {
    "slideshow": {
     "slide_type": "fragment"
    }
   },
   "outputs": [
    {
     "data": {
      "image/png": "[encoded data removed]",
      "text/latex": [
       "$$f{\\left (t \\right )} = C_{1} \\sin{\\left (\\frac{\\sqrt{k} t}{\\sqrt{m}} \\right )} + C_{2} \\cos{\\left (\\frac{\\sqrt{k} t}{\\sqrt{m}} \\right )}$$"
      ],
      "text/plain": [
       "             ⎛√k⋅t⎞         ⎛√k⋅t⎞\n",
       "f(t) = C₁⋅sin⎜────⎟ + C₂⋅cos⎜────⎟\n",
       "             ⎝ √m ⎠         ⎝ √m ⎠"
      ]
     },
     "execution_count": 33,
     "metadata": {},
     "output_type": "execute_result"
    }
   ],
   "source": [
    "dsolve(expr, hint='nth_linear_constant_coeff_homogeneous')"
   ]
  },
  {
   "cell_type": "markdown",
   "metadata": {
    "slideshow": {
     "slide_type": "slide"
    }
   },
   "source": [
    "# Bernoulli Differential Equation\n",
    "\n",
    "$$ \\frac{dy}{dx} + f(x)y = g(x)y^{n}$$"
   ]
  },
  {
   "cell_type": "code",
   "execution_count": 34,
   "metadata": {
    "slideshow": {
     "slide_type": "fragment"
    }
   },
   "outputs": [
    {
     "data": {
      "image/png": "[encoded data removed]",
      "text/latex": [
       "$$f{\\left (x \\right )} y{\\left (x \\right )} - g{\\left (x \\right )} y^{n}{\\left (x \\right )} + \\frac{d}{d x} y{\\left (x \\right )}$$"
      ],
      "text/plain": [
       "                  n      d       \n",
       "f(x)⋅y(x) - g(x)⋅y (x) + ──(y(x))\n",
       "                         dx      "
      ]
     },
     "execution_count": 34,
     "metadata": {},
     "output_type": "execute_result"
    }
   ],
   "source": [
    "from sympy import Derivative, Function, Symbol, dsolve,  symbols\n",
    "\n",
    "x = Symbol(\"x\")\n",
    "y = Function(\"y\")(x)\n",
    "f = Function(\"f\")(x)\n",
    "g = Function(\"g\")(x)\n",
    "n = Symbol(\"n\", nonnegative=True)\n",
    "\n",
    "expr = Derivative(y, x) + f * y - g * y**n\n",
    "expr"
   ]
  },
  {
   "cell_type": "code",
   "execution_count": 35,
   "metadata": {
    "slideshow": {
     "slide_type": "fragment"
    }
   },
   "outputs": [
    {
     "data": {
      "image/png": "[encoded data removed]",
      "text/latex": [
       "$$y{\\left (x \\right )} = \\left(\\left(C_{1} - \\left(n - 1\\right) \\int g{\\left (x \\right )} \\left(e^{- n \\int f{\\left (x \\right )}\\, dx}\\right) e^{\\int f{\\left (x \\right )}\\, dx}\\, dx\\right) e^{- \\left(- n + 1\\right) \\int f{\\left (x \\right )}\\, dx}\\right)^{\\frac{1}{- n + 1}}$$"
      ],
      "text/plain": [
       "                                                                              \n",
       "                                                                              \n",
       "                                                                              \n",
       "       ⎛⎛             ⌠                                 ⎞                     \n",
       "       ⎜⎜             ⎮          ⌠          ⌠           ⎟            ⌠        \n",
       "       ⎜⎜             ⎮       -n⋅⎮ f(x) dx  ⎮ f(x) dx   ⎟  -(-n + 1)⋅⎮ f(x) dx\n",
       "       ⎜⎜             ⎮          ⌡          ⌡           ⎟            ⌡        \n",
       "y(x) = ⎜⎜C₁ - (n - 1)⋅⎮ g(x)⋅ℯ            ⋅ℯ          dx⎟⋅ℯ                   \n",
       "       ⎝⎝             ⌡                                 ⎠                     \n",
       "\n",
       "   1   \n",
       " ──────\n",
       " -n + 1\n",
       "⎞      \n",
       "⎟      \n",
       "⎟      \n",
       "⎟      \n",
       "⎟      \n",
       "⎠      "
      ]
     },
     "execution_count": 35,
     "metadata": {},
     "output_type": "execute_result"
    }
   ],
   "source": [
    "dsolve(expr, func=y, hint='Bernoulli')"
   ]
  },
  {
   "cell_type": "markdown",
   "metadata": {
    "slideshow": {
     "slide_type": "slide"
    }
   },
   "source": [
    "# Linear Algebra"
   ]
  },
  {
   "cell_type": "markdown",
   "metadata": {
    "slideshow": {
     "slide_type": "slide"
    }
   },
   "source": [
    "# Calculation of Martices and Vectors"
   ]
  },
  {
   "cell_type": "markdown",
   "metadata": {
    "slideshow": {
     "slide_type": "slide"
    }
   },
   "source": [
    "# Vandermonde's Determinant"
   ]
  },
  {
   "cell_type": "code",
   "execution_count": 36,
   "metadata": {
    "slideshow": {
     "slide_type": "fragment"
    }
   },
   "outputs": [
    {
     "data": {
      "image/png": "[encoded data removed]",
      "text/latex": [
       "$$\\left[\\begin{matrix}1 & 1 & 1 & 1\\\\a & b & c & d\\\\a^{2} & b^{2} & c^{2} & d^{2}\\\\a^{3} & b^{3} & c^{3} & d^{3}\\end{matrix}\\right]$$"
      ],
      "text/plain": [
       "⎡1   1   1   1 ⎤\n",
       "⎢              ⎥\n",
       "⎢a   b   c   d ⎥\n",
       "⎢              ⎥\n",
       "⎢ 2   2   2   2⎥\n",
       "⎢a   b   c   d ⎥\n",
       "⎢              ⎥\n",
       "⎢ 3   3   3   3⎥\n",
       "⎣a   b   c   d ⎦"
      ]
     },
     "execution_count": 36,
     "metadata": {},
     "output_type": "execute_result"
    }
   ],
   "source": [
    "from sympy import Matrix, factor, symbols\n",
    "\n",
    "a, b, c, d = symbols(\"a, b, c, d\")\n",
    "A = Matrix([\n",
    "    [1, 1, 1, 1], \n",
    "    [a, b, c, d], \n",
    "    [a**2, b**2, c**2, d**2],\n",
    "    [a**3, b**3, c**3, d**3],\n",
    "])\n",
    "A"
   ]
  },
  {
   "cell_type": "code",
   "execution_count": 38,
   "metadata": {
    "slideshow": {
     "slide_type": "fragment"
    }
   },
   "outputs": [
    {
     "data": {
      "image/png": "[encoded data removed]",
      "text/latex": [
       "$$\\left(a - b\\right) \\left(a - c\\right) \\left(a - d\\right) \\left(b - c\\right) \\left(b - d\\right) \\left(c - d\\right)$$"
      ],
      "text/plain": [
       "(a - b)⋅(a - c)⋅(a - d)⋅(b - c)⋅(b - d)⋅(c - d)"
      ]
     },
     "execution_count": 38,
     "metadata": {},
     "output_type": "execute_result"
    }
   ],
   "source": [
    "factor(A.det())"
   ]
  },
  {
   "cell_type": "markdown",
   "metadata": {
    "slideshow": {
     "slide_type": "slide"
    }
   },
   "source": [
    "# Rank"
   ]
  },
  {
   "cell_type": "markdown",
   "metadata": {
    "slideshow": {
     "slide_type": "slide"
    }
   },
   "source": [
    "# Image and Kernel of Linear Mapping"
   ]
  },
  {
   "cell_type": "markdown",
   "metadata": {
    "slideshow": {
     "slide_type": "slide"
    }
   },
   "source": [
    "# Cayley-Hamilton Theorem\n",
    "\n",
    "$$ f_{A}(A) = 0 $$"
   ]
  },
  {
   "cell_type": "code",
   "execution_count": 102,
   "metadata": {
    "slideshow": {
     "slide_type": "fragment"
    }
   },
   "outputs": [
    {
     "data": {
      "image/png": "[encoded data removed]",
      "text/latex": [
       "$$\\left[\\begin{matrix}0 & 0 & 0 & 0 & 1\\\\0 & 0 & 0 & 1 & 0\\\\0 & 0 & 1 & 0 & 0\\\\0 & 1 & 0 & 0 & 0\\\\1 & 0 & 0 & 0 & 0\\end{matrix}\\right]$$"
      ],
      "text/plain": [
       "⎡0  0  0  0  1⎤\n",
       "⎢             ⎥\n",
       "⎢0  0  0  1  0⎥\n",
       "⎢             ⎥\n",
       "⎢0  0  1  0  0⎥\n",
       "⎢             ⎥\n",
       "⎢0  1  0  0  0⎥\n",
       "⎢             ⎥\n",
       "⎣1  0  0  0  0⎦"
      ]
     },
     "execution_count": 102,
     "metadata": {},
     "output_type": "execute_result"
    }
   ],
   "source": [
    "from sympy import Symbol, Matrix, factor, eye, zeros\n",
    "\n",
    "lamda = Symbol('lamda')\n",
    "\n",
    "A = Matrix([\n",
    "    [0, 0, 0, 0, 1], \n",
    "    [0, 0, 0, 1, 0], \n",
    "    [0, 0, 1, 0, 0],\n",
    "    [0, 1, 0, 0, 0],\n",
    "    [1, 0, 0, 0, 0],\n",
    "])\n",
    "A"
   ]
  },
  {
   "cell_type": "code",
   "execution_count": 99,
   "metadata": {
    "slideshow": {
     "slide_type": "subslide"
    }
   },
   "outputs": [
    {
     "data": {
      "image/png": "[encoded data removed]",
      "text/latex": [
       "$$\\left(\\lambda - 1\\right)^{3} \\left(\\lambda + 1\\right)^{2}$$"
      ],
      "text/plain": [
       "       3        2\n",
       "(λ - 1) ⋅(λ + 1) "
      ]
     },
     "execution_count": 99,
     "metadata": {},
     "output_type": "execute_result"
    }
   ],
   "source": [
    "p = A.charpoly(lamda)\n",
    "factor(p)  # Characteristics Polynomial of A"
   ]
  },
  {
   "cell_type": "code",
   "execution_count": 105,
   "metadata": {
    "slideshow": {
     "slide_type": "fragment"
    }
   },
   "outputs": [
    {
     "data": {
      "image/png": "[encoded data removed]",
      "text/latex": [
       "$$\\left[\\begin{matrix}0 & 0 & 0 & 0 & 0\\\\0 & 0 & 0 & 0 & 0\\\\0 & 0 & 0 & 0 & 0\\\\0 & 0 & 0 & 0 & 0\\\\0 & 0 & 0 & 0 & 0\\end{matrix}\\right]$$"
      ],
      "text/plain": [
       "⎡0  0  0  0  0⎤\n",
       "⎢             ⎥\n",
       "⎢0  0  0  0  0⎥\n",
       "⎢             ⎥\n",
       "⎢0  0  0  0  0⎥\n",
       "⎢             ⎥\n",
       "⎢0  0  0  0  0⎥\n",
       "⎢             ⎥\n",
       "⎣0  0  0  0  0⎦"
      ]
     },
     "execution_count": 105,
     "metadata": {},
     "output_type": "execute_result"
    }
   ],
   "source": [
    "E = eye(5)\n",
    "(A - E)**3 * (A + E)**2"
   ]
  },
  {
   "cell_type": "markdown",
   "metadata": {
    "slideshow": {
     "slide_type": "slide"
    }
   },
   "source": [
    "# Jordan Normal Form"
   ]
  },
  {
   "cell_type": "code",
   "execution_count": 108,
   "metadata": {
    "slideshow": {
     "slide_type": "fragment"
    }
   },
   "outputs": [
    {
     "data": {
      "image/png": "[encoded data removed]",
      "text/latex": [
       "$$\\left[\\begin{matrix}\\alpha & b & c\\\\0 & \\alpha & a\\\\0 & 0 & \\alpha\\end{matrix}\\right]$$"
      ],
      "text/plain": [
       "⎡α  b  c⎤\n",
       "⎢       ⎥\n",
       "⎢0  α  a⎥\n",
       "⎢       ⎥\n",
       "⎣0  0  α⎦"
      ]
     },
     "execution_count": 108,
     "metadata": {},
     "output_type": "execute_result"
    }
   ],
   "source": [
    "from sympy import Matrix, jordan_cell, symbols\n",
    "\n",
    "alpha, a, b, c = symbols(\"alpha, a, b, c\")\n",
    "A = Matrix([\n",
    "    [alpha, b, c],\n",
    "    [0, alpha, a],\n",
    "    [0, 0, alpha],\n",
    "])\n",
    "A"
   ]
  },
  {
   "cell_type": "code",
   "execution_count": 110,
   "metadata": {
    "slideshow": {
     "slide_type": "fragment"
    }
   },
   "outputs": [
    {
     "data": {
      "image/png": "[encoded data removed]",
      "text/latex": [
       "$$\\left[\\begin{matrix}\\alpha & 1 & 0\\\\0 & \\alpha & 1\\\\0 & 0 & \\alpha\\end{matrix}\\right]$$"
      ],
      "text/plain": [
       "⎡α  1  0⎤\n",
       "⎢       ⎥\n",
       "⎢0  α  1⎥\n",
       "⎢       ⎥\n",
       "⎣0  0  α⎦"
      ]
     },
     "execution_count": 110,
     "metadata": {},
     "output_type": "execute_result"
    }
   ],
   "source": [
    "P, J = A.jordan_form()  # A = P * J * P**-1\n",
    "J"
   ]
  },
  {
   "cell_type": "markdown",
   "metadata": {
    "slideshow": {
     "slide_type": "slide"
    }
   },
   "source": [
    "# Quadtatic Form\n",
    "\n",
    "$$(x_{1} + x_{2})^{2} + x_{3}x_{4} \\to y^{2}_{1} + y^{2}_{2} - y^{2}_{4}$$"
   ]
  },
  {
   "cell_type": "code",
   "execution_count": 39,
   "metadata": {
    "slideshow": {
     "slide_type": "fragment"
    }
   },
   "outputs": [
    {
     "data": {
      "image/png": "[encoded data removed]",
      "text/latex": [
       "$$\\left[\\begin{matrix}x_{1} \\left(x_{1} + x_{2}\\right) + x_{2} \\left(x_{1} + x_{2}\\right) + x_{3} x_{4}\\end{matrix}\\right]$$"
      ],
      "text/plain": [
       "[x₁⋅(x₁ + x₂) + x₂⋅(x₁ + x₂) + x₃⋅x₄]"
      ]
     },
     "execution_count": 39,
     "metadata": {},
     "output_type": "execute_result"
    }
   ],
   "source": [
    "from sympy import Matrix, Rational, symbols\n",
    "\n",
    "x1, x2, x3, x4 = symbols(\"x1, x2, x3, x4\")\n",
    "\n",
    "A = Matrix([\n",
    "    [1, 1, 0, 0],\n",
    "    [1, 1, 0, 0],\n",
    "    [0, 0, 0, Rational(1, 2)],\n",
    "    [0, 0, Rational(1, 2), 0],\n",
    "])\n",
    "x = Matrix([x1, x2, x3, x4])\n",
    "x.T * A * x  # Quadtatic Form"
   ]
  },
  {
   "cell_type": "code",
   "execution_count": 40,
   "metadata": {
    "slideshow": {
     "slide_type": "subslide"
    }
   },
   "outputs": [
    {
     "data": {
      "image/png": "[encoded data removed]",
      "text/latex": [
       "$$\\left [ \\left ( - \\frac{1}{2}, \\quad 1, \\quad \\left [ \\left[\\begin{matrix}0\\\\0\\\\-1\\\\1\\end{matrix}\\right]\\right ]\\right ), \\quad \\left ( 0, \\quad 1, \\quad \\left [ \\left[\\begin{matrix}-1\\\\1\\\\0\\\\0\\end{matrix}\\right]\\right ]\\right ), \\quad \\left ( \\frac{1}{2}, \\quad 1, \\quad \\left [ \\left[\\begin{matrix}0\\\\0\\\\1\\\\1\\end{matrix}\\right]\\right ]\\right ), \\quad \\left ( 2, \\quad 1, \\quad \\left [ \\left[\\begin{matrix}1\\\\1\\\\0\\\\0\\end{matrix}\\right]\\right ]\\right )\\right ]$$"
      ],
      "text/plain": [
       "⎡⎛         ⎡⎡0 ⎤⎤⎞  ⎛      ⎡⎡-1⎤⎤⎞  ⎛        ⎡⎡0⎤⎤⎞  ⎛      ⎡⎡1⎤⎤⎞⎤\n",
       "⎢⎜         ⎢⎢  ⎥⎥⎟  ⎜      ⎢⎢  ⎥⎥⎟  ⎜        ⎢⎢ ⎥⎥⎟  ⎜      ⎢⎢ ⎥⎥⎟⎥\n",
       "⎢⎜         ⎢⎢0 ⎥⎥⎟  ⎜      ⎢⎢1 ⎥⎥⎟  ⎜        ⎢⎢0⎥⎥⎟  ⎜      ⎢⎢1⎥⎥⎟⎥\n",
       "⎢⎜-1/2, 1, ⎢⎢  ⎥⎥⎟, ⎜0, 1, ⎢⎢  ⎥⎥⎟, ⎜1/2, 1, ⎢⎢ ⎥⎥⎟, ⎜2, 1, ⎢⎢ ⎥⎥⎟⎥\n",
       "⎢⎜         ⎢⎢-1⎥⎥⎟  ⎜      ⎢⎢0 ⎥⎥⎟  ⎜        ⎢⎢1⎥⎥⎟  ⎜      ⎢⎢0⎥⎥⎟⎥\n",
       "⎢⎜         ⎢⎢  ⎥⎥⎟  ⎜      ⎢⎢  ⎥⎥⎟  ⎜        ⎢⎢ ⎥⎥⎟  ⎜      ⎢⎢ ⎥⎥⎟⎥\n",
       "⎣⎝         ⎣⎣1 ⎦⎦⎠  ⎝      ⎣⎣0 ⎦⎦⎠  ⎝        ⎣⎣1⎦⎦⎠  ⎝      ⎣⎣0⎦⎦⎠⎦"
      ]
     },
     "execution_count": 40,
     "metadata": {},
     "output_type": "execute_result"
    }
   ],
   "source": [
    "A.eigenvects()"
   ]
  },
  {
   "cell_type": "code",
   "execution_count": 41,
   "metadata": {
    "slideshow": {
     "slide_type": "subslide"
    }
   },
   "outputs": [
    {
     "data": {
      "image/png": "[encoded data removed]",
      "text/latex": [
       "$$\\left[\\begin{matrix}\\frac{\\sqrt{2}}{2} & 0 & - \\frac{\\sqrt{2}}{2} & 0\\\\\\frac{\\sqrt{2}}{2} & 0 & \\frac{\\sqrt{2}}{2} & 0\\\\0 & \\frac{\\sqrt{2}}{2} & 0 & - \\frac{\\sqrt{2}}{2}\\\\0 & \\frac{\\sqrt{2}}{2} & 0 & \\frac{\\sqrt{2}}{2}\\end{matrix}\\right]$$"
      ],
      "text/plain": [
       "⎡√2      -√2       ⎤\n",
       "⎢──  0   ────   0  ⎥\n",
       "⎢2        2        ⎥\n",
       "⎢                  ⎥\n",
       "⎢√2       √2       ⎥\n",
       "⎢──  0    ──    0  ⎥\n",
       "⎢2        2        ⎥\n",
       "⎢                  ⎥\n",
       "⎢    √2        -√2 ⎥\n",
       "⎢0   ──   0    ────⎥\n",
       "⎢    2          2  ⎥\n",
       "⎢                  ⎥\n",
       "⎢    √2         √2 ⎥\n",
       "⎢0   ──   0     ── ⎥\n",
       "⎣    2          2  ⎦"
      ]
     },
     "execution_count": 41,
     "metadata": {},
     "output_type": "execute_result"
    }
   ],
   "source": [
    "from functools import reduce\n",
    "from sympy import GramSchmidt\n",
    "\n",
    "v1 = Matrix([1, 1, 0, 0])\n",
    "v2 = Matrix([0, 0, 1, 1])\n",
    "v3 = Matrix([-1, 1, 0, 0])\n",
    "v4 = Matrix([0, 0, -1, 1])\n",
    "\n",
    "normalized_bases = GramSchmidt([v1, v2, v3, v4], orthonormal=True)\n",
    "\n",
    "T = reduce(lambda x, y:x.row_join(y), normalized_bases)  # make matrix from column vectors\n",
    "T  # T should be orthogonal matrix"
   ]
  },
  {
   "cell_type": "code",
   "execution_count": 42,
   "metadata": {
    "slideshow": {
     "slide_type": "subslide"
    }
   },
   "outputs": [
    {
     "data": {
      "image/png": "[encoded data removed]",
      "text/latex": [
       "$$\\left[\\begin{matrix}\\frac{\\sqrt{2}}{2} & 0 & 0 & 0\\\\0 & \\sqrt{2} & 0 & 0\\\\0 & 0 & 1 & 0\\\\0 & 0 & 0 & \\sqrt{2}\\end{matrix}\\right]$$"
      ],
      "text/plain": [
       "⎡√2           ⎤\n",
       "⎢──  0   0  0 ⎥\n",
       "⎢2            ⎥\n",
       "⎢             ⎥\n",
       "⎢0   √2  0  0 ⎥\n",
       "⎢             ⎥\n",
       "⎢0   0   1  0 ⎥\n",
       "⎢             ⎥\n",
       "⎣0   0   0  √2⎦"
      ]
     },
     "execution_count": 42,
     "metadata": {},
     "output_type": "execute_result"
    }
   ],
   "source": [
    "from sympy import sqrt, diag\n",
    "\n",
    "D = diag(1 / sqrt(2), 1 / sqrt(Rational(1, 2)), 1, 1 / sqrt(Rational(1, 2)))\n",
    "D"
   ]
  },
  {
   "cell_type": "code",
   "execution_count": 43,
   "metadata": {
    "slideshow": {
     "slide_type": "subslide"
    }
   },
   "outputs": [
    {
     "data": {
      "image/png": "[encoded data removed]",
      "text/latex": [
       "$$\\left[\\begin{matrix}\\frac{1}{2} & 0 & - \\frac{\\sqrt{2}}{2} & 0\\\\\\frac{1}{2} & 0 & \\frac{\\sqrt{2}}{2} & 0\\\\0 & 1 & 0 & -1\\\\0 & 1 & 0 & 1\\end{matrix}\\right]$$"
      ],
      "text/plain": [
       "⎡        -√2     ⎤\n",
       "⎢1/2  0  ────  0 ⎥\n",
       "⎢         2      ⎥\n",
       "⎢                ⎥\n",
       "⎢         √2     ⎥\n",
       "⎢1/2  0   ──   0 ⎥\n",
       "⎢         2      ⎥\n",
       "⎢                ⎥\n",
       "⎢ 0   1   0    -1⎥\n",
       "⎢                ⎥\n",
       "⎣ 0   1   0    1 ⎦"
      ]
     },
     "execution_count": 43,
     "metadata": {},
     "output_type": "execute_result"
    }
   ],
   "source": [
    "P = T * D\n",
    "P"
   ]
  },
  {
   "cell_type": "code",
   "execution_count": 44,
   "metadata": {
    "slideshow": {
     "slide_type": "subslide"
    }
   },
   "outputs": [
    {
     "data": {
      "image/png": "[encoded data removed]",
      "text/latex": [
       "$$\\left[\\begin{matrix}y_{1}^{2} + y_{2}^{2} - y_{4}^{2}\\end{matrix}\\right]$$"
      ],
      "text/plain": [
       "⎡  2     2     2⎤\n",
       "⎣y₁  + y₂  - y₄ ⎦"
      ]
     },
     "execution_count": 44,
     "metadata": {},
     "output_type": "execute_result"
    }
   ],
   "source": [
    "from sympy import simplify\n",
    "\n",
    "y1, y2, y3, y4 = symbols(\"y1, y2, y3, y4\")\n",
    "y = Matrix([y1, y2, y3, y4])\n",
    "\n",
    "simplify((P * y).T * A * (P * y))"
   ]
  },
  {
   "cell_type": "markdown",
   "metadata": {
    "slideshow": {
     "slide_type": "slide"
    }
   },
   "source": [
    "# Functions of Martices\n",
    "\n",
    "$$ \\exp(A) = \\sum^{\\infty}_{k=0}\\frac{A^{k}}{k!}$$"
   ]
  },
  {
   "cell_type": "code",
   "execution_count": 59,
   "metadata": {
    "slideshow": {
     "slide_type": "fragment"
    }
   },
   "outputs": [
    {
     "data": {
      "image/png": "[encoded data removed]",
      "text/latex": [
       "$$\\left[\\begin{matrix}2 & 1 & 1\\\\1 & 2 & 1\\\\1 & 1 & 2\\end{matrix}\\right]$$"
      ],
      "text/plain": [
       "⎡2  1  1⎤\n",
       "⎢       ⎥\n",
       "⎢1  2  1⎥\n",
       "⎢       ⎥\n",
       "⎣1  1  2⎦"
      ]
     },
     "execution_count": 59,
     "metadata": {},
     "output_type": "execute_result"
    }
   ],
   "source": [
    "from sympy import Matrix, exp\n",
    "\n",
    "A = Matrix([\n",
    "    [2, 1, 1],\n",
    "    [1, 2, 1],\n",
    "    [1, 1, 2]\n",
    "])\n",
    "A"
   ]
  },
  {
   "cell_type": "code",
   "execution_count": 60,
   "metadata": {
    "slideshow": {
     "slide_type": "fragment"
    }
   },
   "outputs": [
    {
     "data": {
      "image/png": "[encoded data removed]",
      "text/latex": [
       "$$\\left[\\begin{matrix}\\frac{2 e}{3} + \\frac{e^{4}}{3} & - \\frac{e}{3} + \\frac{e^{4}}{3} & - \\frac{e}{3} + \\frac{e^{4}}{3}\\\\- \\frac{e}{3} + \\frac{e^{4}}{3} & \\frac{2 e}{3} + \\frac{e^{4}}{3} & - \\frac{e}{3} + \\frac{e^{4}}{3}\\\\- \\frac{e}{3} + \\frac{e^{4}}{3} & - \\frac{e}{3} + \\frac{e^{4}}{3} & \\frac{2 e}{3} + \\frac{e^{4}}{3}\\end{matrix}\\right]$$"
      ],
      "text/plain": [
       "⎡       4         4         4⎤\n",
       "⎢2⋅ℯ   ℯ     ℯ   ℯ     ℯ   ℯ ⎥\n",
       "⎢─── + ──  - ─ + ──  - ─ + ──⎥\n",
       "⎢ 3    3     3   3     3   3 ⎥\n",
       "⎢                            ⎥\n",
       "⎢       4         4         4⎥\n",
       "⎢  ℯ   ℯ   2⋅ℯ   ℯ     ℯ   ℯ ⎥\n",
       "⎢- ─ + ──  ─── + ──  - ─ + ──⎥\n",
       "⎢  3   3    3    3     3   3 ⎥\n",
       "⎢                            ⎥\n",
       "⎢       4         4         4⎥\n",
       "⎢  ℯ   ℯ     ℯ   ℯ   2⋅ℯ   ℯ ⎥\n",
       "⎢- ─ + ──  - ─ + ──  ─── + ──⎥\n",
       "⎣  3   3     3   3    3    3 ⎦"
      ]
     },
     "execution_count": 60,
     "metadata": {},
     "output_type": "execute_result"
    }
   ],
   "source": [
    "exp(A)"
   ]
  },
  {
   "cell_type": "markdown",
   "metadata": {
    "slideshow": {
     "slide_type": "slide"
    }
   },
   "source": [
    "# Number Theory"
   ]
  },
  {
   "cell_type": "markdown",
   "metadata": {
    "slideshow": {
     "slide_type": "slide"
    }
   },
   "source": [
    "# Prime Number Theorem"
   ]
  },
  {
   "cell_type": "markdown",
   "metadata": {
    "slideshow": {
     "slide_type": "slide"
    }
   },
   "source": [
    "# Bertrand–Chebyshev theorem\n",
    "\n",
    "Let $\\{p_{n}\\} _{n\\ge1}$ be a sequence of prime numbers, then $p_{n+1} < 2p_{n}$."
   ]
  }
 ],
 "metadata": {
  "celltoolbar": "Slideshow",
  "kernelspec": {
   "display_name": "Python 3",
   "language": "python",
   "name": "python3"
  },
  "language_info": {
   "codemirror_mode": {
    "name": "ipython",
    "version": 3
   },
   "file_extension": ".py",
   "mimetype": "text/x-python",
   "name": "python",
   "nbconvert_exporter": "python",
   "pygments_lexer": "ipython3",
   "version": "3.6.5"
  }
 },
 "nbformat": 4,
 "nbformat_minor": 2
}
