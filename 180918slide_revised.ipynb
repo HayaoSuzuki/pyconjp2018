{
 "cells": [
  {
   "cell_type": "code",
   "execution_count": 1,
   "metadata": {
    "slideshow": {
     "slide_type": "notes"
    }
   },
   "outputs": [],
   "source": [
    "%matplotlib inline\n",
    "\n",
    "from sympy import init_printing\n",
    "\n",
    "init_printing()"
   ]
  },
  {
   "cell_type": "markdown",
   "metadata": {
    "slideshow": {
     "slide_type": "slide"
    }
   },
   "source": [
    "# Symbolic Mathematics using SymPy\n",
    "\n",
    "## Hayao Suzuki\n",
    "\n",
    "- PyCon JP 2018 at Ota City Industrial Plaza\n",
    "- September 18, 2018"
   ]
  },
  {
   "cell_type": "markdown",
   "metadata": {
    "slideshow": {
     "slide_type": "slide"
    }
   },
   "source": [
    "# We will talk about\n",
    "\n",
    "- What's SymPy?\n",
    "- How to use SymPy\n",
    "- Mathematics (Undergraduate Level)\n",
    "\n",
    "# We will NOT talk about\n",
    "\n",
    "- SymPy Internal (implementions, etc...)\n",
    "- Algorithms of calculation\n",
    "- Mathematics (High School Level)"
   ]
  },
  {
   "cell_type": "markdown",
   "metadata": {
    "slideshow": {
     "slide_type": "slide"
    }
   },
   "source": [
    "# Are You Ready?\n",
    "\n",
    "$$e^{x} = \\sum^{\\infty}_{k=0}\\frac{x^{k}}{k!}$$\n",
    "\n",
    "$$ \\int^{\\infty}_{-\\infty} \\frac{x}{\\sqrt{2\\pi \\sigma^{2}}} \\exp \\left (-\\frac{(x-\\mu)^{2}}{2\\sigma^{2}} \\right )dx = \\mu$$"
   ]
  },
  {
   "cell_type": "markdown",
   "metadata": {
    "slideshow": {
     "slide_type": "slide"
    }
   },
   "source": [
    "# About Me （お前誰よ）\n",
    "\n",
    "- Name: Hayao Suzuki（鈴木　駿） ([@CardinalXaro](https://twitter.com/CardinalXaro))\n",
    "- Blog: https://xaro.hatenablog.jp/\n",
    "- Major: Mathematics (Combinatorics, Number Theory)\n",
    "- Degree: 修士（工学）、電気通信大学\n",
    "- Work: Python Programmer at [iRidge, Inc.](https://iridge.jp/)\n",
    "\n",
    "# Reviewed Books (Excerpted)\n",
    "\n",
    "- Effective Python (O’Reilly Japan)\n",
    "- アルゴリズム クイックリファレンス 第 2 版 (O’Reilly Japan)\n",
    "- すらすらわかる Python （翔泳社）\n",
    "- Head First Python 第 2 版 (O’Reilly Japan)\n",
    "- Python データサイエンスハンドブック (O’Reilly Japan)\n",
    "- Python によるデータ分析入門 第 2 版 (O’Reilly Japan)\n",
    "- Pythonによるあたらしいデータ分析の教科書（翔泳社）**New**\n",
    "- 問題解決のPythonプログラミング (O’Reilly Japan) **New**"
   ]
  },
  {
   "cell_type": "markdown",
   "metadata": {
    "slideshow": {
     "slide_type": "slide"
    }
   },
   "source": [
    "# Introduction"
   ]
  },
  {
   "cell_type": "markdown",
   "metadata": {
    "slideshow": {
     "slide_type": "slide"
    }
   },
   "source": [
    "# What’s SymPy?\n",
    "\n",
    "- A Python library for symbolic mathematics\n",
    "- Open source software(BSD license), SymPy is free both as in speech and as in beer.\n",
    "- Written in pure Python\n",
    "- Dependency on mpmath library only\n",
    "\n",
    "\n",
    "## What’s mpmath?\n",
    "\n",
    "- Real and complex floating point arithmetic with arbitrary precision"
   ]
  },
  {
   "cell_type": "markdown",
   "metadata": {
    "slideshow": {
     "slide_type": "slide"
    }
   },
   "source": [
    "# Symbolic vs Numeric\n",
    "\n",
    "## Solve this equation:\n",
    "\n",
    "$$x^2 -8 = 0$$\n",
    "\n",
    "### Symbolic\n",
    "\n",
    "$$x = \\pm 2\\sqrt{2}$$\n",
    "\n",
    "### Numeric\n",
    "\n",
    "$$x = \\pm 2.82842712474619$$"
   ]
  },
  {
   "cell_type": "markdown",
   "metadata": {
    "slideshow": {
     "slide_type": "slide"
    }
   },
   "source": [
    "# Example: Geometric Series\n",
    "\n",
    "$$ \\sum^{\\infty}_{k=1}\\frac{1}{4^{k}}$$"
   ]
  },
  {
   "cell_type": "markdown",
   "metadata": {
    "slideshow": {
     "slide_type": "subslide"
    }
   },
   "source": [
    "### By hand\n",
    "\n",
    "Let $S_{n}$ be \n",
    "\n",
    "\\begin{equation}S_{n} = \\sum^{n}_{k=1}\\frac{1}{4^{k}}.\\end{equation}\n",
    "\n",
    "Then,\n",
    "\\begin{align}\n",
    "S_{n} - \\frac{1}{4}S_{n} &= \\sum^{n}_{k=1}\\frac{1}{4^{k}} - \\frac{1}{4}\\sum^{n}_{k=1}\\frac{1}{4^{k}} \\\\\n",
    "  &= \\frac{1}{4} - \\frac{1}{4^{n+1}}.\n",
    "\\end{align}\n",
    "\n",
    "Therefore,\n",
    "\n",
    "\\begin{align}\n",
    "\\lim_{n \\to \\infty}S_{n} &= \\lim_{n \\to \\infty} \\frac{4}{3} \\left ( \\frac{1}{4} - \\frac{1}{4^{n+1}} \\right ) \\\\\n",
    "&=\\frac{1}{3}.\n",
    "\\end{align}"
   ]
  },
  {
   "cell_type": "markdown",
   "metadata": {
    "slideshow": {
     "slide_type": "subslide"
    }
   },
   "source": [
    "### Pure Python"
   ]
  },
  {
   "cell_type": "code",
   "execution_count": 2,
   "metadata": {
    "slideshow": {
     "slide_type": "fragment"
    }
   },
   "outputs": [
    {
     "data": {
      "image/png": "[encoded data removed]",
      "text/latex": [
       "$$0.3333333333333333$$"
      ],
      "text/plain": [
       "0.3333333333333333"
      ]
     },
     "execution_count": 2,
     "metadata": {},
     "output_type": "execute_result"
    }
   ],
   "source": [
    "sum(1 / 4**k for k in range(1, 100))"
   ]
  },
  {
   "cell_type": "markdown",
   "metadata": {
    "slideshow": {
     "slide_type": "subslide"
    }
   },
   "source": [
    "### SymPy"
   ]
  },
  {
   "cell_type": "code",
   "execution_count": 3,
   "metadata": {
    "slideshow": {
     "slide_type": "fragment"
    }
   },
   "outputs": [
    {
     "data": {
      "image/png": "[encoded data removed]",
      "text/latex": [
       "$$\\frac{1}{3}$$"
      ],
      "text/plain": [
       "1/3"
      ]
     },
     "execution_count": 3,
     "metadata": {},
     "output_type": "execute_result"
    }
   ],
   "source": [
    "from sympy import Symbol, oo, summation\n",
    "\n",
    "k = Symbol('k', integer=True)\n",
    "summation(1 / (4**k), (k, 1, oo))"
   ]
  },
  {
   "cell_type": "markdown",
   "metadata": {
    "slideshow": {
     "slide_type": "slide"
    }
   },
   "source": [
    "# Open Source vs Proprietary\n",
    "\n",
    "## Open Source Software\n",
    "- Maxima (Lisp)\n",
    "- SymPy\n",
    "- SageMath (Including SymPy, Python 2 only)\n",
    "\n",
    "## Proprietary Software\n",
    "- Mathematica\n",
    "- Maple\n",
    "- Magma\n",
    "\n",
    "\n",
    "## My History\n",
    "\n",
    "I used Mathematica when I was undergraduate, but I lost my student license when I became a graduate student."
   ]
  },
  {
   "cell_type": "markdown",
   "metadata": {
    "slideshow": {
     "slide_type": "slide"
    }
   },
   "source": [
    "# How to Install and Use SymPy\n",
    "\n",
    "## How to Install Sympy\n",
    "\n",
    "- `$ pip install sympy` (from PyPI)\n",
    "- `$ conda update sympy` (from Anaconda)\n",
    "- See http://docs.sympy.org/latest/install.html for more detail\n",
    "\n",
    "\n",
    "## How to Use Sympy \n",
    "\n",
    "- `import sympy` as library\n",
    "- `$ isympy`\n",
    "- Jupyter Notebook (I recommend)\n",
    "\n",
    "\n",
    "## I don’t want to install SymPy, but want to use it...\n",
    "\n",
    "- OK, let’s go to http://live.sympy.org/"
   ]
  },
  {
   "cell_type": "markdown",
   "metadata": {
    "slideshow": {
     "slide_type": "slide"
    }
   },
   "source": [
    "# Basics"
   ]
  },
  {
   "cell_type": "markdown",
   "metadata": {
    "slideshow": {
     "slide_type": "slide"
    }
   },
   "source": [
    "# Symbols\n",
    "\n",
    "$$\\sum^{\\infty}_{k=0}\\frac{x^{k}}{k!}$$"
   ]
  },
  {
   "cell_type": "code",
   "execution_count": 4,
   "metadata": {
    "slideshow": {
     "slide_type": "fragment"
    }
   },
   "outputs": [
    {
     "data": {
      "image/png": "[encoded data removed]",
      "text/latex": [
       "$$e^{x}$$"
      ],
      "text/plain": [
       " x\n",
       "ℯ "
      ]
     },
     "execution_count": 4,
     "metadata": {},
     "output_type": "execute_result"
    }
   ],
   "source": [
    "from sympy import Symbol, factorial, oo, summation\n",
    "\n",
    "x = Symbol(\"x\")\n",
    "k = Symbol(\"k\", integer=True)\n",
    "\n",
    "summation(x**k / factorial(k), (k, 0, oo))"
   ]
  },
  {
   "cell_type": "markdown",
   "metadata": {
    "slideshow": {
     "slide_type": "slide"
    }
   },
   "source": [
    "# Mean of Normal Distribution\n",
    "\n",
    "$$ \\int^{\\infty}_{-\\infty} \\frac{x}{\\sqrt{2\\pi \\sigma^{2}}} \\exp \\left (-\\frac{(x-\\mu)^{2}}{2\\sigma^{2}} \\right )dx = \\mu$$"
   ]
  },
  {
   "cell_type": "code",
   "execution_count": 5,
   "metadata": {
    "slideshow": {
     "slide_type": "subslide"
    }
   },
   "outputs": [
    {
     "data": {
      "image/png": "[encoded data removed]",
      "text/latex": [
       "$$\\int_{-\\infty}^{\\infty} \\frac{\\sqrt{2} x e^{- \\frac{\\left(- \\mu + x\\right)^{2}}{2 \\sigma^{2}}}}{2 \\sqrt{\\pi} \\sqrt{\\sigma^{2}}}\\, dx$$"
      ],
      "text/plain": [
       "∞                      \n",
       "⌠                      \n",
       "⎮                 2    \n",
       "⎮        -(-μ + x)     \n",
       "⎮        ───────────   \n",
       "⎮               2      \n",
       "⎮            2⋅σ       \n",
       "⎮  √2⋅x⋅ℯ              \n",
       "⎮  ───────────────── dx\n",
       "⎮             ____     \n",
       "⎮            ╱  2      \n",
       "⎮     2⋅√π⋅╲╱  σ       \n",
       "⌡                      \n",
       "-∞                     "
      ]
     },
     "execution_count": 5,
     "metadata": {},
     "output_type": "execute_result"
    }
   ],
   "source": [
    "from sympy import Integral, Symbol, exp, oo, pi, sqrt\n",
    "\n",
    "x = Symbol(\"x\")\n",
    "mu = Symbol(\"mu\")\n",
    "sigma = Symbol(\"sigma\")\n",
    "f = (x / sqrt(2 * pi * sigma**2)) *  exp(-((x - mu)**2) / (2 * sigma**2))\n",
    "expr = Integral(f, (x, -oo, oo))\n",
    "expr"
   ]
  },
  {
   "cell_type": "code",
   "execution_count": 6,
   "metadata": {
    "slideshow": {
     "slide_type": "subslide"
    }
   },
   "outputs": [
    {
     "data": {
      "image/png": "[encoded data removed]",
      "text/latex": [
       "$$\\begin{cases} - \\frac{\\mu \\left(- 2 \\sqrt{\\pi} \\left(- \\operatorname{erfc}{\\left (\\frac{\\sqrt{2} \\mu}{2 \\sigma} \\right )} + 2\\right) - \\frac{2 \\sqrt{2} \\sigma e^{- \\frac{\\mu^{2}}{2 \\sigma^{2}}}}{\\mu}\\right)}{4 \\sqrt{\\pi}} - \\frac{\\mu \\left(- 2 \\sqrt{\\pi} \\operatorname{erfc}{\\left (\\frac{\\sqrt{2} \\mu}{2 \\sigma} \\right )} + \\frac{2 \\sqrt{2} \\sigma e^{- \\frac{\\mu^{2}}{2 \\sigma^{2}}}}{\\mu}\\right)}{4 \\sqrt{\\pi}} & \\text{for}\\: \\left(\\left(\\frac{\\pi}{2} \\geq 2 \\left|{\\arg{\\left (\\sigma \\right )}}\\right| \\wedge \\pi > \\left|{2 \\arg{\\left (\\mu \\right )} - 4 \\arg{\\left (\\sigma \\right )}}\\right|\\right) \\vee \\left(\\pi \\geq \\left|{2 \\arg{\\left (\\mu \\right )} - 4 \\arg{\\left (\\sigma \\right )}}\\right| \\wedge \\frac{\\pi}{2} > 2 \\left|{\\arg{\\left (\\sigma \\right )}}\\right|\\right) \\vee \\left(\\frac{\\pi}{2} > 2 \\left|{\\arg{\\left (\\sigma \\right )}}\\right| \\wedge \\pi > \\left|{2 \\arg{\\left (\\mu \\right )} - 4 \\arg{\\left (\\sigma \\right )}}\\right|\\right) \\vee \\frac{\\pi}{2} > 2 \\left|{\\arg{\\left (\\sigma \\right )}}\\right|\\right) \\wedge \\left(\\left(\\frac{\\pi}{2} \\geq 2 \\left|{\\arg{\\left (\\sigma \\right )}}\\right| \\wedge \\pi > \\left|{2 \\arg{\\left (\\mu \\right )} - 4 \\arg{\\left (\\sigma \\right )} + 2 \\pi}\\right|\\right) \\vee \\left(\\pi \\geq \\left|{2 \\arg{\\left (\\mu \\right )} - 4 \\arg{\\left (\\sigma \\right )} + 2 \\pi}\\right| \\wedge \\frac{\\pi}{2} > 2 \\left|{\\arg{\\left (\\sigma \\right )}}\\right|\\right) \\vee \\left(\\frac{\\pi}{2} > 2 \\left|{\\arg{\\left (\\sigma \\right )}}\\right| \\wedge \\pi > \\left|{2 \\arg{\\left (\\mu \\right )} - 4 \\arg{\\left (\\sigma \\right )} + 2 \\pi}\\right|\\right) \\vee \\frac{\\pi}{2} > 2 \\left|{\\arg{\\left (\\sigma \\right )}}\\right|\\right) \\\\\\int_{-\\infty}^{\\infty} \\frac{\\sqrt{2} x e^{- \\frac{\\left(- \\mu + x\\right)^{2}}{2 \\sigma^{2}}}}{2 \\sqrt{\\pi} \\sqrt{\\sigma^{2}}}\\, dx & \\text{otherwise} \\end{cases}$$"
      ],
      "text/plain": [
       "⎧    ⎛                                      2 ⎞     ⎛                         \n",
       "⎪    ⎜                                    -μ  ⎟     ⎜                         \n",
       "⎪    ⎜                                    ────⎟     ⎜                         \n",
       "⎪    ⎜                                       2⎟     ⎜                         \n",
       "⎪    ⎜                                    2⋅σ ⎟     ⎜                         \n",
       "⎪    ⎜       ⎛      ⎛√2⋅μ⎞    ⎞   2⋅√2⋅σ⋅ℯ    ⎟     ⎜           ⎛√2⋅μ⎞   2⋅√2⋅\n",
       "⎪  μ⋅⎜- 2⋅√π⋅⎜- erfc⎜────⎟ + 2⎟ - ────────────⎟   μ⋅⎜- 2⋅√π⋅erfc⎜────⎟ + ─────\n",
       "⎪    ⎝       ⎝      ⎝2⋅σ ⎠    ⎠        μ      ⎠     ⎝           ⎝2⋅σ ⎠        \n",
       "⎪- ──────────────────────────────────────────── - ────────────────────────────\n",
       "⎪                      4⋅√π                                       4⋅√π        \n",
       "⎪                                                                             \n",
       "⎪                               ∞                                             \n",
       "⎨                               ⌠                                             \n",
       "⎪                               ⎮                 2                           \n",
       "⎪                               ⎮        -(-μ + x)                            \n",
       "⎪                               ⎮        ───────────                          \n",
       "⎪                               ⎮               2                             \n",
       "⎪                               ⎮            2⋅σ                              \n",
       "⎪                               ⎮  √2⋅x⋅ℯ                                     \n",
       "⎪                               ⎮  ───────────────── dx                       \n",
       "⎪                               ⎮             ____                            \n",
       "⎪                               ⎮            ╱  2                             \n",
       "⎪                               ⎮     2⋅√π⋅╲╱  σ                              \n",
       "⎪                               ⌡                                             \n",
       "⎩                               -∞                                            \n",
       "\n",
       "     2 ⎞                                                                      \n",
       "   -μ  ⎟                                                                      \n",
       "   ────⎟                                                                      \n",
       "      2⎟                                                                      \n",
       "   2⋅σ ⎟                                                                      \n",
       "σ⋅ℯ    ⎟                                                                      \n",
       "───────⎟                                                                      \n",
       "μ      ⎠      ⎛⎛π                                         ⎞   ⎛               \n",
       "────────  for ⎜⎜─ ≥ 2⋅│arg(σ)│ ∧ π > │2⋅arg(μ) - 4⋅arg(σ)│⎟ ∨ ⎜π ≥ │2⋅arg(μ) -\n",
       "              ⎝⎝2                                         ⎠   ⎝               \n",
       "                                                                              \n",
       "                                                                              \n",
       "                                                                              \n",
       "                                                                              \n",
       "                                                                              \n",
       "                                                                              \n",
       "                                                                              \n",
       "                                                                              \n",
       "                                                                              \n",
       "                                                                              \n",
       "                                                                              \n",
       "                                                                              \n",
       "                                                                              \n",
       "                                                                              \n",
       "                                                                              \n",
       "\n",
       "                                                                              \n",
       "                                                                              \n",
       "                                                                              \n",
       "                                                                              \n",
       "                                                                              \n",
       "                                                                              \n",
       "                                                                              \n",
       "             π             ⎞   ⎛π                                         ⎞   \n",
       " 4⋅arg(σ)│ ∧ ─ > 2⋅│arg(σ)│⎟ ∨ ⎜─ > 2⋅│arg(σ)│ ∧ π > │2⋅arg(μ) - 4⋅arg(σ)│⎟ ∨ \n",
       "             2             ⎠   ⎝2                                         ⎠   \n",
       "                                                                              \n",
       "                                                                              \n",
       "                                                                              \n",
       "                                                                              \n",
       "                                                                              \n",
       "                                                                              \n",
       "                                                                              \n",
       "                                                                              \n",
       "                                                                              \n",
       "                                                                              \n",
       "                                                                              \n",
       "                                                                              \n",
       "                                                                              \n",
       "                                                                              \n",
       "                                                                              \n",
       "\n",
       "                                                                              \n",
       "                                                                              \n",
       "                                                                              \n",
       "                                                                              \n",
       "                                                                              \n",
       "                                                                              \n",
       "                                                                              \n",
       "π             ⎞   ⎛⎛π                                               ⎞   ⎛     \n",
       "─ > 2⋅│arg(σ)│⎟ ∧ ⎜⎜─ ≥ 2⋅│arg(σ)│ ∧ π > │2⋅arg(μ) - 4⋅arg(σ) + 2⋅π│⎟ ∨ ⎜π ≥ │\n",
       "2             ⎠   ⎝⎝2                                               ⎠   ⎝     \n",
       "                                                                              \n",
       "                                                                              \n",
       "                                                                              \n",
       "                                                                              \n",
       "                                                                              \n",
       "                                                                              \n",
       "                                                                              \n",
       "                                                                              \n",
       "                                                                              \n",
       "                   otherwise                                                  \n",
       "                                                                              \n",
       "                                                                              \n",
       "                                                                              \n",
       "                                                                              \n",
       "                                                                              \n",
       "\n",
       "                                                                              \n",
       "                                                                              \n",
       "                                                                              \n",
       "                                                                              \n",
       "                                                                              \n",
       "                                                                              \n",
       "                                                                              \n",
       "                             π             ⎞   ⎛π                             \n",
       "2⋅arg(μ) - 4⋅arg(σ) + 2⋅π│ ∧ ─ > 2⋅│arg(σ)│⎟ ∨ ⎜─ > 2⋅│arg(σ)│ ∧ π > │2⋅arg(μ)\n",
       "                             2             ⎠   ⎝2                             \n",
       "                                                                              \n",
       "                                                                              \n",
       "                                                                              \n",
       "                                                                              \n",
       "                                                                              \n",
       "                                                                              \n",
       "                                                                              \n",
       "                                                                              \n",
       "                                                                              \n",
       "                                                                              \n",
       "                                                                              \n",
       "                                                                              \n",
       "                                                                              \n",
       "                                                                              \n",
       "                                                                              \n",
       "\n",
       "                                     \n",
       "                                     \n",
       "                                     \n",
       "                                     \n",
       "                                     \n",
       "                                     \n",
       "                                     \n",
       "                  ⎞   π             ⎞\n",
       " - 4⋅arg(σ) + 2⋅π│⎟ ∨ ─ > 2⋅│arg(σ)│⎟\n",
       "                  ⎠   2             ⎠\n",
       "                                     \n",
       "                                     \n",
       "                                     \n",
       "                                     \n",
       "                                     \n",
       "                                     \n",
       "                                     \n",
       "                                     \n",
       "                                     \n",
       "                                     \n",
       "                                     \n",
       "                                     \n",
       "                                     \n",
       "                                     \n",
       "                                     "
      ]
     },
     "execution_count": 6,
     "metadata": {},
     "output_type": "execute_result"
    }
   ],
   "source": [
    "expr.doit()  # What's happen?"
   ]
  },
  {
   "cell_type": "code",
   "execution_count": 7,
   "metadata": {
    "slideshow": {
     "slide_type": "subslide"
    }
   },
   "outputs": [
    {
     "data": {
      "image/png": "[encoded data removed]",
      "text/latex": [
       "$$\\mu$$"
      ],
      "text/plain": [
       "μ"
      ]
     },
     "execution_count": 7,
     "metadata": {},
     "output_type": "execute_result"
    }
   ],
   "source": [
    "x = Symbol(\"x\")\n",
    "mu = Symbol(\"mu\", real=True)  # mu should be Real \n",
    "sigma = Symbol(\"sigma\", real=True, positive=True) # sigma should be Real and Positive value\n",
    "\n",
    "f = (x / sqrt(2 * pi * sigma**2)) *  exp(-((x - mu)**2) / (2 * sigma**2))\n",
    "expr = Integral(f, (x, -oo, oo))\n",
    "expr.doit()  # OK, I expected."
   ]
  },
  {
   "cell_type": "markdown",
   "metadata": {
    "slideshow": {
     "slide_type": "slide"
    }
   },
   "source": [
    "# Expand and Factor\n",
    "\n",
    "$$ (a + 2b + 3c)^{3} $$"
   ]
  },
  {
   "cell_type": "code",
   "execution_count": 8,
   "metadata": {
    "slideshow": {
     "slide_type": "subslide"
    }
   },
   "outputs": [
    {
     "data": {
      "image/png": "[encoded data removed]",
      "text/latex": [
       "$$\\left(a + 2 b + 3 c\\right)^{3}$$"
      ],
      "text/plain": [
       "               3\n",
       "(a + 2⋅b + 3⋅c) "
      ]
     },
     "execution_count": 8,
     "metadata": {},
     "output_type": "execute_result"
    }
   ],
   "source": [
    "from sympy import Symbol, symbols\n",
    "\n",
    "a = Symbol(\"a\")\n",
    "b, c, d = symbols(\"b, c, d\")\n",
    "\n",
    "expr = (a + 2 * b + 3 * c) ** 3\n",
    "expr"
   ]
  },
  {
   "cell_type": "code",
   "execution_count": 9,
   "metadata": {
    "slideshow": {
     "slide_type": "subslide"
    }
   },
   "outputs": [
    {
     "data": {
      "image/png": "[encoded data removed]",
      "text/latex": [
       "$$a^{3} + 6 a^{2} b + 9 a^{2} c + 12 a b^{2} + 36 a b c + 27 a c^{2} + 8 b^{3} + 36 b^{2} c + 54 b c^{2} + 27 c^{3}$$"
      ],
      "text/plain": [
       " 3      2        2           2                    2      3       2           2\n",
       "a  + 6⋅a ⋅b + 9⋅a ⋅c + 12⋅a⋅b  + 36⋅a⋅b⋅c + 27⋅a⋅c  + 8⋅b  + 36⋅b ⋅c + 54⋅b⋅c \n",
       "\n",
       "       3\n",
       " + 27⋅c "
      ]
     },
     "execution_count": 9,
     "metadata": {},
     "output_type": "execute_result"
    }
   ],
   "source": [
    "expanded =  expr.expand()\n",
    "expanded"
   ]
  },
  {
   "cell_type": "code",
   "execution_count": 10,
   "metadata": {
    "slideshow": {
     "slide_type": "subslide"
    }
   },
   "outputs": [
    {
     "data": {
      "image/png": "[encoded data removed]",
      "text/latex": [
       "$$\\left(a + 2 b + 3 c\\right)^{3}$$"
      ],
      "text/plain": [
       "               3\n",
       "(a + 2⋅b + 3⋅c) "
      ]
     },
     "execution_count": 10,
     "metadata": {},
     "output_type": "execute_result"
    }
   ],
   "source": [
    "expanded.factor()"
   ]
  },
  {
   "cell_type": "markdown",
   "metadata": {
    "slideshow": {
     "slide_type": "slide"
    }
   },
   "source": [
    "# Factor with Extention"
   ]
  },
  {
   "cell_type": "code",
   "execution_count": 11,
   "metadata": {
    "slideshow": {
     "slide_type": "fragment"
    }
   },
   "outputs": [
    {
     "data": {
      "image/png": "[encoded data removed]",
      "text/latex": [
       "$$x^{2} + 2$$"
      ],
      "text/plain": [
       " 2    \n",
       "x  + 2"
      ]
     },
     "execution_count": 11,
     "metadata": {},
     "output_type": "execute_result"
    }
   ],
   "source": [
    "from sympy import Symbol, factor, I, sqrt\n",
    "\n",
    "x = Symbol(\"x\")\n",
    "expr = x**2  + 2\n",
    "factor(expr)"
   ]
  },
  {
   "cell_type": "code",
   "execution_count": 12,
   "metadata": {
    "slideshow": {
     "slide_type": "fragment"
    }
   },
   "outputs": [
    {
     "data": {
      "image/png": "[encoded data removed]",
      "text/latex": [
       "$$\\left(x - \\sqrt{2} i\\right) \\left(x + \\sqrt{2} i\\right)$$"
      ],
      "text/plain": [
       "(x - √2⋅ⅈ)⋅(x + √2⋅ⅈ)"
      ]
     },
     "execution_count": 12,
     "metadata": {},
     "output_type": "execute_result"
    }
   ],
   "source": [
    "factor(expr, extension=[sqrt(2), I])"
   ]
  },
  {
   "cell_type": "markdown",
   "metadata": {
    "slideshow": {
     "slide_type": "slide"
    }
   },
   "source": [
    "# Simplify\n",
    "\n",
    "$$ \\sin^{2}\\theta + \\cos^{2}\\theta = 1$$"
   ]
  },
  {
   "cell_type": "code",
   "execution_count": 13,
   "metadata": {
    "slideshow": {
     "slide_type": "fragment"
    }
   },
   "outputs": [
    {
     "data": {
      "image/png": "[encoded data removed]",
      "text/latex": [
       "$$\\sin^{2}{\\left (\\theta \\right )} + \\cos^{2}{\\left (\\theta \\right )}$$"
      ],
      "text/plain": [
       "   2         2   \n",
       "sin (θ) + cos (θ)"
      ]
     },
     "execution_count": 13,
     "metadata": {},
     "output_type": "execute_result"
    }
   ],
   "source": [
    "from sympy import Symbol, cos, simplify, sin\n",
    "\n",
    "theta = Symbol(\"theta\")\n",
    "sin(theta)**2 + cos(theta)**2"
   ]
  },
  {
   "cell_type": "code",
   "execution_count": 14,
   "metadata": {
    "slideshow": {
     "slide_type": "fragment"
    }
   },
   "outputs": [
    {
     "data": {
      "image/png": "[encoded data removed]",
      "text/latex": [
       "$$1$$"
      ],
      "text/plain": [
       "1"
      ]
     },
     "execution_count": 14,
     "metadata": {},
     "output_type": "execute_result"
    }
   ],
   "source": [
    "simplify(sin(theta)**2 + cos(theta)**2)"
   ]
  },
  {
   "cell_type": "markdown",
   "metadata": {
    "slideshow": {
     "slide_type": "slide"
    }
   },
   "source": [
    "# Solvers\n",
    "\n",
    "$$ax^{2} + bx + c = 0$$"
   ]
  },
  {
   "cell_type": "code",
   "execution_count": 15,
   "metadata": {
    "slideshow": {
     "slide_type": "subslide"
    }
   },
   "outputs": [
    {
     "data": {
      "image/png": "[encoded data removed]",
      "text/latex": [
       "$$a x^{2} + b x + c = 0$$"
      ],
      "text/plain": [
       "   2              \n",
       "a⋅x  + b⋅x + c = 0"
      ]
     },
     "execution_count": 15,
     "metadata": {},
     "output_type": "execute_result"
    }
   ],
   "source": [
    "from sympy import Eq, simplify, solveset, symbols\n",
    "\n",
    "x, a, b, c = symbols(\"x, a, b, c\")\n",
    "eq = Eq(a * x**2 + b * x + c, 0)\n",
    "eq"
   ]
  },
  {
   "cell_type": "code",
   "execution_count": 16,
   "metadata": {
    "slideshow": {
     "slide_type": "fragment"
    }
   },
   "outputs": [
    {
     "data": {
      "image/png": "[encoded data removed]",
      "text/latex": [
       "$$\\left\\{\\frac{- b + \\sqrt{- 4 a c + b^{2}}}{2 a}, - \\frac{b + \\sqrt{- 4 a c + b^{2}}}{2 a}\\right\\}$$"
      ],
      "text/plain": [
       "⎧        _____________   ⎛       _____________⎞ ⎫\n",
       "⎪       ╱           2    ⎜      ╱           2 ⎟ ⎪\n",
       "⎨-b + ╲╱  -4⋅a⋅c + b    -⎝b + ╲╱  -4⋅a⋅c + b  ⎠ ⎬\n",
       "⎪─────────────────────, ────────────────────────⎪\n",
       "⎩         2⋅a                     2⋅a           ⎭"
      ]
     },
     "execution_count": 16,
     "metadata": {},
     "output_type": "execute_result"
    }
   ],
   "source": [
    "simplify(solveset(eq, x))"
   ]
  },
  {
   "cell_type": "markdown",
   "metadata": {
    "slideshow": {
     "slide_type": "slide"
    }
   },
   "source": [
    "# Quintic Equation\n",
    "\n",
    "$$ax^{5} + bx^{4} + cx^{3} + dx^{2} + ex + f = 0$$\n",
    "\n",
    "Symmetric group $\\mathfrak{S}_{5}$ is non-solvable symmetric group."
   ]
  },
  {
   "cell_type": "code",
   "execution_count": 17,
   "metadata": {
    "slideshow": {
     "slide_type": "fragment"
    }
   },
   "outputs": [
    {
     "data": {
      "image/png": "[encoded data removed]",
      "text/latex": [
       "$$\\left\\{x \\mid x \\in \\mathbb{C} \\wedge a x^{5} + b x^{4} + c x^{3} + d x^{2} + e x + f = 0 \\right\\}$$"
      ],
      "text/plain": [
       "⎧               5      4      3      2              ⎫\n",
       "⎨x | x ∊ ℂ ∧ a⋅x  + b⋅x  + c⋅x  + d⋅x  + e⋅x + f = 0⎬\n",
       "⎩                                                   ⎭"
      ]
     },
     "execution_count": 17,
     "metadata": {},
     "output_type": "execute_result"
    }
   ],
   "source": [
    "from sympy import Eq, simplify, solveset, symbols\n",
    "\n",
    "x, a, b, c, d, e, f = symbols(\"x, a, b, c, d, e, f\")\n",
    "eq = Eq(a * x**5 + b * x**4 + c * x**3 + d * x**2 + e * x + f, 0)\n",
    "simplify(solveset(eq, x))"
   ]
  },
  {
   "cell_type": "markdown",
   "metadata": {
    "slideshow": {
     "slide_type": "slide"
    }
   },
   "source": [
    "# Polynomials"
   ]
  },
  {
   "cell_type": "code",
   "execution_count": 18,
   "metadata": {
    "slideshow": {
     "slide_type": "fragment"
    }
   },
   "outputs": [
    {
     "data": {
      "image/png": "[encoded data removed]",
      "text/latex": [
       "$$\\left ( \\frac{5 x}{2} + \\frac{5}{2}, \\quad -2\\right )$$"
      ],
      "text/plain": [
       "⎛5⋅x   5    ⎞\n",
       "⎜─── + ─, -2⎟\n",
       "⎝ 2    2    ⎠"
      ]
     },
     "execution_count": 18,
     "metadata": {},
     "output_type": "execute_result"
    }
   ],
   "source": [
    "from sympy import Symbol, div\n",
    "\n",
    "x = Symbol(\"x\")\n",
    "\n",
    "f = 5 * x**2 + 10 * x + 3\n",
    "g = 2 * x + 2\n",
    "\n",
    "div(f, g, domain=\"QQ\") # Polynomial Ring over Q, Q[X] is Euclid domain."
   ]
  },
  {
   "cell_type": "code",
   "execution_count": 19,
   "metadata": {
    "slideshow": {
     "slide_type": "fragment"
    }
   },
   "outputs": [
    {
     "data": {
      "image/png": "[encoded data removed]",
      "text/latex": [
       "$$\\left ( 0, \\quad 5 x^{2} + 10 x + 3\\right )$$"
      ],
      "text/plain": [
       "⎛      2           ⎞\n",
       "⎝0, 5⋅x  + 10⋅x + 3⎠"
      ]
     },
     "execution_count": 19,
     "metadata": {},
     "output_type": "execute_result"
    }
   ],
   "source": [
    "div(f, g, domain=\"ZZ\")  # Polynomial Ring over Z"
   ]
  },
  {
   "cell_type": "markdown",
   "metadata": {
    "slideshow": {
     "slide_type": "slide"
    }
   },
   "source": [
    "# Calculus"
   ]
  },
  {
   "cell_type": "markdown",
   "metadata": {
    "slideshow": {
     "slide_type": "slide"
    }
   },
   "source": [
    "# Limits\n",
    "\n",
    "$$\\displaystyle \\lim_{x \\to 0} \\frac{\\sin{x}}{x}$$"
   ]
  },
  {
   "cell_type": "code",
   "execution_count": 20,
   "metadata": {
    "slideshow": {
     "slide_type": "subslide"
    }
   },
   "outputs": [
    {
     "data": {
      "image/png": "[encoded data removed]",
      "text/plain": [
       "<Figure size 432x288 with 1 Axes>"
      ]
     },
     "metadata": {},
     "output_type": "display_data"
    },
    {
     "data": {
      "text/plain": [
       "<sympy.plotting.plot.Plot at 0x11af53be0>"
      ]
     },
     "execution_count": 20,
     "metadata": {},
     "output_type": "execute_result"
    }
   ],
   "source": [
    "from sympy import Symbol, limit, pi, sin\n",
    "from sympy.plotting import plot\n",
    "\n",
    "x = Symbol(\"x\")\n",
    "f = (sin(x) / x)\n",
    "plot(f, (x, -4 * pi, 4 * pi))"
   ]
  },
  {
   "cell_type": "code",
   "execution_count": 21,
   "metadata": {
    "slideshow": {
     "slide_type": "fragment"
    }
   },
   "outputs": [
    {
     "data": {
      "image/png": "[encoded data removed]",
      "text/latex": [
       "$$\\left ( 1, \\quad 1\\right )$$"
      ],
      "text/plain": [
       "(1, 1)"
      ]
     },
     "execution_count": 21,
     "metadata": {},
     "output_type": "execute_result"
    }
   ],
   "source": [
    "limit(f, x, 0, \"+\"), limit(f, x, 0, \"-\")"
   ]
  },
  {
   "cell_type": "markdown",
   "metadata": {
    "slideshow": {
     "slide_type": "slide"
    }
   },
   "source": [
    "# Derivative\n",
    "\n",
    "$$ \\frac{d}{dx} e^{x}\\sin{x} $$"
   ]
  },
  {
   "cell_type": "code",
   "execution_count": 22,
   "metadata": {
    "slideshow": {
     "slide_type": "subslide"
    }
   },
   "outputs": [
    {
     "data": {
      "image/png": "[encoded data removed]",
      "text/latex": [
       "$$\\frac{d}{d x} e^{- x} \\sin{\\left (x \\right )}$$"
      ],
      "text/plain": [
       "d ⎛ -x       ⎞\n",
       "──⎝ℯ  ⋅sin(x)⎠\n",
       "dx            "
      ]
     },
     "execution_count": 22,
     "metadata": {},
     "output_type": "execute_result"
    }
   ],
   "source": [
    "from sympy import Symbol, Derivative, exp, sin\n",
    "\n",
    "x = Symbol(\"x\")\n",
    "f = exp(-x) * sin(x)\n",
    "expr = Derivative(f, x)\n",
    "expr"
   ]
  },
  {
   "cell_type": "code",
   "execution_count": 23,
   "metadata": {
    "slideshow": {
     "slide_type": "fragment"
    }
   },
   "outputs": [
    {
     "data": {
      "image/png": "[encoded data removed]",
      "text/latex": [
       "$$- e^{- x} \\sin{\\left (x \\right )} + e^{- x} \\cos{\\left (x \\right )}$$"
      ],
      "text/plain": [
       "   -x           -x       \n",
       "- ℯ  ⋅sin(x) + ℯ  ⋅cos(x)"
      ]
     },
     "execution_count": 23,
     "metadata": {},
     "output_type": "execute_result"
    }
   ],
   "source": [
    "expr.doit()"
   ]
  },
  {
   "cell_type": "code",
   "execution_count": 24,
   "metadata": {
    "slideshow": {
     "slide_type": "subslide"
    }
   },
   "outputs": [
    {
     "data": {
      "image/png": "[encoded data removed]",
      "text/plain": [
       "<Figure size 432x288 with 1 Axes>"
      ]
     },
     "metadata": {},
     "output_type": "display_data"
    }
   ],
   "source": [
    "from sympy.plotting import plot\n",
    "\n",
    "p = plot(f, f.diff(), (x, 0, 2*pi), xlim=(0, 4), ylim=(-1, 1), show=False)\n",
    "p[1].line_color = 'r'\n",
    "p.show()"
   ]
  },
  {
   "cell_type": "markdown",
   "metadata": {
    "slideshow": {
     "slide_type": "slide"
    }
   },
   "source": [
    "# Partial Derivative\n",
    "\n",
    "$$\\frac{\\partial^{7}}{\\partial z^{4}\\partial y^{2}\\partial x} e^{x y z}$$"
   ]
  },
  {
   "cell_type": "code",
   "execution_count": 25,
   "metadata": {
    "slideshow": {
     "slide_type": "subslide"
    }
   },
   "outputs": [
    {
     "data": {
      "image/png": "[encoded data removed]",
      "text/latex": [
       "$$\\frac{\\partial^{7}}{\\partial z^{4}\\partial y^{2}\\partial x} e^{x y z}$$"
      ],
      "text/plain": [
       "     7            \n",
       "    ∂     ⎛ x⋅y⋅z⎞\n",
       "──────────⎝ℯ     ⎠\n",
       "  4   2           \n",
       "∂z  ∂y  ∂x        "
      ]
     },
     "execution_count": 25,
     "metadata": {},
     "output_type": "execute_result"
    }
   ],
   "source": [
    "from sympy import Derivative, symbols, exp\n",
    "\n",
    "x, y, z = symbols(\"x, y, z\")\n",
    "f = exp(x*y*z)\n",
    "expr = Derivative(f, x, y, y, z, z, z, z)\n",
    "expr"
   ]
  },
  {
   "cell_type": "code",
   "execution_count": 26,
   "metadata": {
    "slideshow": {
     "slide_type": "fragment"
    }
   },
   "outputs": [
    {
     "data": {
      "image/png": "[encoded data removed]",
      "text/latex": [
       "$$x^{3} y^{2} \\left(x^{3} y^{3} z^{3} + 14 x^{2} y^{2} z^{2} + 52 x y z + 48\\right) e^{x y z}$$"
      ],
      "text/plain": [
       " 3  2 ⎛ 3  3  3       2  2  2                ⎞  x⋅y⋅z\n",
       "x ⋅y ⋅⎝x ⋅y ⋅z  + 14⋅x ⋅y ⋅z  + 52⋅x⋅y⋅z + 48⎠⋅ℯ     "
      ]
     },
     "execution_count": 26,
     "metadata": {},
     "output_type": "execute_result"
    }
   ],
   "source": [
    "expr.doit()"
   ]
  },
  {
   "cell_type": "markdown",
   "metadata": {
    "slideshow": {
     "slide_type": "slide"
    }
   },
   "source": [
    "# Taylor Series\n",
    "\n",
    "\\begin{equation}\n",
    "f(x) = \\sum^{\\infty}_{k=0}\\frac{f^{(k)}(a)}{k!}(x-a)^{k}\n",
    "\\end{equation}"
   ]
  },
  {
   "cell_type": "code",
   "execution_count": 27,
   "metadata": {
    "slideshow": {
     "slide_type": "subslide"
    }
   },
   "outputs": [
    {
     "data": {
      "image/png": "[encoded data removed]",
      "text/plain": [
       "<Figure size 432x288 with 1 Axes>"
      ]
     },
     "metadata": {},
     "output_type": "display_data"
    }
   ],
   "source": [
    "from sympy import Symbol, cos, pi, sin\n",
    "from sympy.plotting import plot\n",
    "\n",
    "x = Symbol(\"x\")\n",
    "f = sin(x) + cos(2 * x)\n",
    "\n",
    "p = plot(f, f.series(n=10).removeO(), (x, -2*pi, 2*pi), xlim=(-7, 7), ylim=(-2, 2), show=False)\n",
    "p[1].line_color = 'r'\n",
    "p.show()"
   ]
  },
  {
   "cell_type": "markdown",
   "metadata": {
    "slideshow": {
     "slide_type": "slide"
    }
   },
   "source": [
    "# Integral\n",
    "\n",
    "$$ \\int^{\\infty}_{-\\infty}\\frac{\\cos{x}}{x^{2} + 1}dx$$"
   ]
  },
  {
   "cell_type": "code",
   "execution_count": 28,
   "metadata": {
    "slideshow": {
     "slide_type": "subslide"
    }
   },
   "outputs": [
    {
     "data": {
      "image/png": "[encoded data removed]",
      "text/plain": [
       "<Figure size 432x288 with 1 Axes>"
      ]
     },
     "metadata": {},
     "output_type": "display_data"
    },
    {
     "data": {
      "text/plain": [
       "<sympy.plotting.plot.Plot at 0x11d0ea160>"
      ]
     },
     "execution_count": 28,
     "metadata": {},
     "output_type": "execute_result"
    }
   ],
   "source": [
    "from sympy import And, Integral, Symbol, cos, oo, pi, simplify, sin\n",
    "from sympy.plotting import plot\n",
    "\n",
    "x = Symbol(\"x\")\n",
    "f = cos(x) / (1 + x**2)\n",
    "plot((1 / (1 + x**2)))"
   ]
  },
  {
   "cell_type": "code",
   "execution_count": 29,
   "metadata": {
    "slideshow": {
     "slide_type": "subslide"
    }
   },
   "outputs": [
    {
     "data": {
      "image/png": "[encoded data removed]",
      "text/latex": [
       "$$\\int_{-\\infty}^{\\infty} \\frac{\\cos{\\left (x \\right )}}{x^{2} + 1}\\, dx$$"
      ],
      "text/plain": [
       "∞           \n",
       "⌠           \n",
       "⎮  cos(x)   \n",
       "⎮  ────── dx\n",
       "⎮   2       \n",
       "⎮  x  + 1   \n",
       "⌡           \n",
       "-∞          "
      ]
     },
     "execution_count": 29,
     "metadata": {},
     "output_type": "execute_result"
    }
   ],
   "source": [
    "expr = Integral(f, (x, -oo, oo))\n",
    "expr"
   ]
  },
  {
   "cell_type": "code",
   "execution_count": 30,
   "metadata": {
    "slideshow": {
     "slide_type": "fragment"
    }
   },
   "outputs": [
    {
     "data": {
      "image/png": "[encoded data removed]",
      "text/latex": [
       "$$\\frac{\\pi}{e}$$"
      ],
      "text/plain": [
       "   -1\n",
       "π⋅ℯ  "
      ]
     },
     "execution_count": 30,
     "metadata": {},
     "output_type": "execute_result"
    }
   ],
   "source": [
    "simplify(expr.doit())"
   ]
  },
  {
   "cell_type": "markdown",
   "metadata": {
    "slideshow": {
     "slide_type": "slide"
    }
   },
   "source": [
    "# Differential Equation of Simple Harmonic Motion\n",
    "\n",
    "$$ \\frac{d^{2}}{dt^{2}} f(t) = - \\frac{k}{m}f(t)$$"
   ]
  },
  {
   "cell_type": "code",
   "execution_count": 31,
   "metadata": {
    "slideshow": {
     "slide_type": "subslide"
    }
   },
   "outputs": [
    {
     "data": {
      "image/png": "[encoded data removed]",
      "text/latex": [
       "$$\\frac{k f{\\left (t \\right )}}{m} + \\frac{d^{2}}{d t^{2}} f{\\left (t \\right )}$$"
      ],
      "text/plain": [
       "           2      \n",
       "k⋅f(t)    d       \n",
       "────── + ───(f(t))\n",
       "  m        2      \n",
       "         dt       "
      ]
     },
     "execution_count": 31,
     "metadata": {},
     "output_type": "execute_result"
    }
   ],
   "source": [
    "from sympy import Derivative, Function, Symbol, classify_ode, dsolve, symbols\n",
    "\n",
    "t = Symbol(\"t\")\n",
    "k, m = symbols(\"k, m\", positive=True)  # k and m should be positive constant\n",
    "f = Function(\"f\")(t)\n",
    "expr = Derivative(f, t, 2) + (k / m) * f\n",
    "expr"
   ]
  },
  {
   "cell_type": "code",
   "execution_count": 32,
   "metadata": {
    "slideshow": {
     "slide_type": "fragment"
    }
   },
   "outputs": [
    {
     "data": {
      "image/png": "[encoded data removed]",
      "text/latex": [
       "$$f{\\left (t \\right )} = C_{1} \\sin{\\left (\\frac{\\sqrt{k} t}{\\sqrt{m}} \\right )} + C_{2} \\cos{\\left (\\frac{\\sqrt{k} t}{\\sqrt{m}} \\right )}$$"
      ],
      "text/plain": [
       "             ⎛√k⋅t⎞         ⎛√k⋅t⎞\n",
       "f(t) = C₁⋅sin⎜────⎟ + C₂⋅cos⎜────⎟\n",
       "             ⎝ √m ⎠         ⎝ √m ⎠"
      ]
     },
     "execution_count": 32,
     "metadata": {},
     "output_type": "execute_result"
    }
   ],
   "source": [
    "dsolve(expr)"
   ]
  },
  {
   "cell_type": "markdown",
   "metadata": {
    "slideshow": {
     "slide_type": "slide"
    }
   },
   "source": [
    "# Linear Algebra"
   ]
  },
  {
   "cell_type": "markdown",
   "metadata": {
    "slideshow": {
     "slide_type": "slide"
    }
   },
   "source": [
    "# Vandermonde's Determinant"
   ]
  },
  {
   "cell_type": "code",
   "execution_count": 33,
   "metadata": {
    "slideshow": {
     "slide_type": "subslide"
    }
   },
   "outputs": [
    {
     "data": {
      "image/png": "[encoded data removed]",
      "text/latex": [
       "$$\\left[\\begin{matrix}1 & 1 & 1 & 1\\\\a & b & c & d\\\\a^{2} & b^{2} & c^{2} & d^{2}\\\\a^{3} & b^{3} & c^{3} & d^{3}\\end{matrix}\\right]$$"
      ],
      "text/plain": [
       "⎡1   1   1   1 ⎤\n",
       "⎢              ⎥\n",
       "⎢a   b   c   d ⎥\n",
       "⎢              ⎥\n",
       "⎢ 2   2   2   2⎥\n",
       "⎢a   b   c   d ⎥\n",
       "⎢              ⎥\n",
       "⎢ 3   3   3   3⎥\n",
       "⎣a   b   c   d ⎦"
      ]
     },
     "execution_count": 33,
     "metadata": {},
     "output_type": "execute_result"
    }
   ],
   "source": [
    "from sympy import Matrix, factor, symbols\n",
    "\n",
    "a, b, c, d = symbols(\"a, b, c, d\")\n",
    "A = Matrix([\n",
    "    [1, 1, 1, 1], \n",
    "    [a, b, c, d], \n",
    "    [a**2, b**2, c**2, d**2],\n",
    "    [a**3, b**3, c**3, d**3],\n",
    "])\n",
    "A"
   ]
  },
  {
   "cell_type": "code",
   "execution_count": 34,
   "metadata": {
    "slideshow": {
     "slide_type": "subslide"
    }
   },
   "outputs": [
    {
     "data": {
      "image/png": "[encoded data removed]",
      "text/latex": [
       "$$\\left(a - b\\right) \\left(a - c\\right) \\left(a - d\\right) \\left(b - c\\right) \\left(b - d\\right) \\left(c - d\\right)$$"
      ],
      "text/plain": [
       "(a - b)⋅(a - c)⋅(a - d)⋅(b - c)⋅(b - d)⋅(c - d)"
      ]
     },
     "execution_count": 34,
     "metadata": {},
     "output_type": "execute_result"
    }
   ],
   "source": [
    "factor(A.det())"
   ]
  },
  {
   "cell_type": "markdown",
   "metadata": {
    "slideshow": {
     "slide_type": "slide"
    }
   },
   "source": [
    "# Characteristic Polynomial"
   ]
  },
  {
   "cell_type": "code",
   "execution_count": 35,
   "metadata": {
    "slideshow": {
     "slide_type": "subslide"
    }
   },
   "outputs": [
    {
     "data": {
      "image/png": "[encoded data removed]",
      "text/latex": [
       "$$\\left[\\begin{matrix}0 & 0 & 0 & 0 & 1\\\\0 & 0 & 0 & 1 & 0\\\\0 & 0 & 1 & 0 & 0\\\\0 & 1 & 0 & 0 & 0\\\\1 & 0 & 0 & 0 & 0\\end{matrix}\\right]$$"
      ],
      "text/plain": [
       "⎡0  0  0  0  1⎤\n",
       "⎢             ⎥\n",
       "⎢0  0  0  1  0⎥\n",
       "⎢             ⎥\n",
       "⎢0  0  1  0  0⎥\n",
       "⎢             ⎥\n",
       "⎢0  1  0  0  0⎥\n",
       "⎢             ⎥\n",
       "⎣1  0  0  0  0⎦"
      ]
     },
     "execution_count": 35,
     "metadata": {},
     "output_type": "execute_result"
    }
   ],
   "source": [
    "from sympy import Symbol, Matrix, factor, eye, zeros\n",
    "\n",
    "lamda = Symbol('lamda')\n",
    "\n",
    "A = Matrix([\n",
    "    [0, 0, 0, 0, 1], \n",
    "    [0, 0, 0, 1, 0], \n",
    "    [0, 0, 1, 0, 0],\n",
    "    [0, 1, 0, 0, 0],\n",
    "    [1, 0, 0, 0, 0],\n",
    "])\n",
    "A"
   ]
  },
  {
   "cell_type": "code",
   "execution_count": 36,
   "metadata": {
    "slideshow": {
     "slide_type": "fragment"
    }
   },
   "outputs": [
    {
     "data": {
      "image/png": "[encoded data removed]",
      "text/latex": [
       "$$\\left(\\lambda - 1\\right)^{3} \\left(\\lambda + 1\\right)^{2}$$"
      ],
      "text/plain": [
       "       3        2\n",
       "(λ - 1) ⋅(λ + 1) "
      ]
     },
     "execution_count": 36,
     "metadata": {},
     "output_type": "execute_result"
    }
   ],
   "source": [
    "p = A.charpoly(lamda)\n",
    "factor(p)  # Characteristics Polynomial of A"
   ]
  },
  {
   "cell_type": "markdown",
   "metadata": {
    "slideshow": {
     "slide_type": "slide"
    }
   },
   "source": [
    "# Fibonacci Number\n",
    "\n",
    "$$ \\begin{pmatrix}F_{n+1} \\\\ F_{n}\\end{pmatrix} = \\begin{pmatrix} 1&1\\\\ 1 & 0\\end{pmatrix}\\begin{pmatrix}F_{n} \\\\ F_{n-1}\\end{pmatrix} $$\n",
    "\n",
    "$$ \\begin{pmatrix}F_{n+1} \\\\ F_{n}\\end{pmatrix} = \\begin{pmatrix} 1&1\\\\ 1 & 0\\end{pmatrix}^{n}\\begin{pmatrix}1 \\\\0 \\end{pmatrix} $$"
   ]
  },
  {
   "cell_type": "code",
   "execution_count": 37,
   "metadata": {
    "slideshow": {
     "slide_type": "subslide"
    }
   },
   "outputs": [
    {
     "data": {
      "image/png": "[encoded data removed]",
      "text/latex": [
       "$$\\left ( \\left[\\begin{matrix}\\frac{1}{2} + \\frac{\\sqrt{5}}{2} & - \\frac{\\sqrt{5}}{2} + \\frac{1}{2}\\\\1 & 1\\end{matrix}\\right], \\quad \\left[\\begin{matrix}\\frac{1}{2} + \\frac{\\sqrt{5}}{2} & 0\\\\0 & - \\frac{\\sqrt{5}}{2} + \\frac{1}{2}\\end{matrix}\\right]\\right )$$"
      ],
      "text/plain": [
       "⎛                    ⎡1   √5          ⎤⎞\n",
       "⎜⎡1   √5    √5   1⎤  ⎢─ + ──     0    ⎥⎟\n",
       "⎜⎢─ + ──  - ── + ─⎥  ⎢2   2           ⎥⎟\n",
       "⎜⎢2   2     2    2⎥, ⎢                ⎥⎟\n",
       "⎜⎢                ⎥  ⎢          √5   1⎥⎟\n",
       "⎜⎣  1        1    ⎦  ⎢  0     - ── + ─⎥⎟\n",
       "⎝                    ⎣          2    2⎦⎠"
      ]
     },
     "execution_count": 37,
     "metadata": {},
     "output_type": "execute_result"
    }
   ],
   "source": [
    "from sympy import Matrix, Symbol, simplify\n",
    "\n",
    "n = Symbol(\"n\", positive=True, integer=True)\n",
    "\n",
    "A = Matrix([\n",
    "    [1, 1],\n",
    "    [1, 0]\n",
    "])\n",
    "\n",
    "F = Matrix([\n",
    "    [1,],\n",
    "    [0,]\n",
    "])\n",
    "\n",
    "P, D = A.diagonalize()\n",
    "P, D"
   ]
  },
  {
   "cell_type": "code",
   "execution_count": 38,
   "metadata": {
    "slideshow": {
     "slide_type": "subslide"
    }
   },
   "outputs": [
    {
     "data": {
      "image/png": "[encoded data removed]",
      "text/latex": [
       "$$\\left[\\begin{matrix}\\frac{2^{- n} \\sqrt{5} \\left(\\left(1 + \\sqrt{5}\\right)^{n + 1} - \\left(- \\sqrt{5} + 1\\right)^{n + 1}\\right)}{10}\\\\\\frac{2^{- n} \\sqrt{5} \\left(\\left(1 + \\sqrt{5}\\right)^{n} - \\left(- \\sqrt{5} + 1\\right)^{n}\\right)}{5}\\end{matrix}\\right]$$"
      ],
      "text/plain": [
       "⎡ -n    ⎛        n + 1            n + 1⎞⎤\n",
       "⎢2  ⋅√5⋅⎝(1 + √5)      - (-√5 + 1)     ⎠⎥\n",
       "⎢───────────────────────────────────────⎥\n",
       "⎢                   10                  ⎥\n",
       "⎢                                       ⎥\n",
       "⎢     -n    ⎛        n            n⎞    ⎥\n",
       "⎢    2  ⋅√5⋅⎝(1 + √5)  - (-√5 + 1) ⎠    ⎥\n",
       "⎢    ───────────────────────────────    ⎥\n",
       "⎣                   5                   ⎦"
      ]
     },
     "execution_count": 38,
     "metadata": {},
     "output_type": "execute_result"
    }
   ],
   "source": [
    "simplify((P * D**n * P**-1) * F)"
   ]
  },
  {
   "cell_type": "code",
   "execution_count": 39,
   "metadata": {
    "slideshow": {
     "slide_type": "fragment"
    }
   },
   "outputs": [
    {
     "data": {
      "image/png": "[encoded data removed]",
      "text/latex": [
       "$$\\left[\\begin{matrix}\\frac{2^{- n} \\sqrt{5} \\left(\\left(1 + \\sqrt{5}\\right)^{n + 1} - \\left(- \\sqrt{5} + 1\\right)^{n + 1}\\right)}{10}\\\\\\frac{2^{- n} \\sqrt{5} \\left(\\left(1 + \\sqrt{5}\\right)^{n} - \\left(- \\sqrt{5} + 1\\right)^{n}\\right)}{5}\\end{matrix}\\right]$$"
      ],
      "text/plain": [
       "⎡ -n    ⎛        n + 1            n + 1⎞⎤\n",
       "⎢2  ⋅√5⋅⎝(1 + √5)      - (-√5 + 1)     ⎠⎥\n",
       "⎢───────────────────────────────────────⎥\n",
       "⎢                   10                  ⎥\n",
       "⎢                                       ⎥\n",
       "⎢     -n    ⎛        n            n⎞    ⎥\n",
       "⎢    2  ⋅√5⋅⎝(1 + √5)  - (-√5 + 1) ⎠    ⎥\n",
       "⎢    ───────────────────────────────    ⎥\n",
       "⎣                   5                   ⎦"
      ]
     },
     "execution_count": 39,
     "metadata": {},
     "output_type": "execute_result"
    }
   ],
   "source": [
    "simplify((A**n) * F)"
   ]
  },
  {
   "cell_type": "code",
   "execution_count": 40,
   "metadata": {
    "slideshow": {
     "slide_type": "fragment"
    }
   },
   "outputs": [
    {
     "data": {
      "text/plain": [
       "True"
      ]
     },
     "execution_count": 40,
     "metadata": {},
     "output_type": "execute_result"
    }
   ],
   "source": [
    "simplify((P * D**n * P**-1) * F) == simplify((A**n) * F)"
   ]
  },
  {
   "cell_type": "markdown",
   "metadata": {
    "slideshow": {
     "slide_type": "slide"
    }
   },
   "source": [
    "# Number Theory"
   ]
  },
  {
   "cell_type": "markdown",
   "metadata": {
    "slideshow": {
     "slide_type": "subslide"
    }
   },
   "source": [
    "# Bertrand–Chebyshev Theorem\n",
    "\n",
    "Let $\\{p_{n}\\} _{n\\ge1}$ be a sequence of prime numbers, then $p_{n+1} < 2p_{n}$.\n",
    "\n",
    "In 1845, Joseph Bertrand himself verified his statement for $2$ to $3 \\times 10^{6}$. In 2018, We verified this statement for $2$ to $3 \\times 10^{6}$ by Shift-Enter!"
   ]
  },
  {
   "cell_type": "code",
   "execution_count": 41,
   "metadata": {
    "slideshow": {
     "slide_type": "subslide"
    }
   },
   "outputs": [
    {
     "data": {
      "text/plain": [
       "True"
      ]
     },
     "execution_count": 41,
     "metadata": {},
     "output_type": "execute_result"
    }
   ],
   "source": [
    "from itertools import tee\n",
    "from sympy import sieve\n",
    "\n",
    "def pairwise(iterable):\n",
    "    \"\"\"s -> (s0,s1), (s1,s2), (s2, s3), ...\"\"\"\n",
    "    a, b = tee(iterable)\n",
    "    next(b, None)\n",
    "    return zip(a, b)\n",
    "\n",
    "\n",
    "all([p < q < 2 * p for p, q in pairwise(sieve.primerange(1, 3 * (10**6)))])"
   ]
  },
  {
   "cell_type": "markdown",
   "metadata": {
    "slideshow": {
     "slide_type": "slide"
    }
   },
   "source": [
    "# Riemann Hypothesis\n",
    "\n",
    "\\begin{equation}\n",
    "\\zeta(s) = \\sum^{\\infty}_{n=1} \\frac{1}{n^{s}}\n",
    "\\end{equation}\n",
    "\n",
    "Conjecture: The real part of every non-trivial zero of the Riemann zeta function is $\\frac{1}{2}$."
   ]
  },
  {
   "cell_type": "code",
   "execution_count": 42,
   "metadata": {
    "slideshow": {
     "slide_type": "subslide"
    }
   },
   "outputs": [
    {
     "data": {
      "image/png": "[encoded data removed]",
      "text/plain": [
       "<Figure size 432x288 with 1 Axes>"
      ]
     },
     "metadata": {},
     "output_type": "display_data"
    }
   ],
   "source": [
    "from sympy import I, im, re, zeta\n",
    "from sympy.plotting import plot\n",
    "\n",
    "f = zeta(1 / 2 + x * I)\n",
    "p = plot(re(f), im(f), (x, 1, 30), xlim=(0, 31), show=False)\n",
    "p[1].line_color = 'r'\n",
    "p.show()"
   ]
  },
  {
   "cell_type": "code",
   "execution_count": 43,
   "metadata": {
    "slideshow": {
     "slide_type": "subslide"
    }
   },
   "outputs": [
    {
     "data": {
      "image/png": "[encoded data removed]",
      "text/plain": [
       "<Figure size 432x288 with 1 Axes>"
      ]
     },
     "metadata": {},
     "output_type": "display_data"
    }
   ],
   "source": [
    "g = zeta(1 / 8 + x * I)\n",
    "q = plot(re(g), im(g), (x, 1, 30), xlim=(0, 31), show=False)\n",
    "q[1].line_color = 'r'\n",
    "q.show()"
   ]
  },
  {
   "cell_type": "markdown",
   "metadata": {
    "slideshow": {
     "slide_type": "slide"
    }
   },
   "source": [
    "# OK, When do I use SymPy?"
   ]
  },
  {
   "cell_type": "markdown",
   "metadata": {
    "slideshow": {
     "slide_type": "fragment"
    }
   },
   "source": [
    "## Tool for Your Life"
   ]
  }
 ],
 "metadata": {
  "celltoolbar": "Slideshow",
  "kernelspec": {
   "display_name": "Python 3",
   "language": "python",
   "name": "python3"
  },
  "language_info": {
   "codemirror_mode": {
    "name": "ipython",
    "version": 3
   },
   "file_extension": ".py",
   "mimetype": "text/x-python",
   "name": "python",
   "nbconvert_exporter": "python",
   "pygments_lexer": "ipython3",
   "version": "3.6.5"
  }
 },
 "nbformat": 4,
 "nbformat_minor": 2
}
